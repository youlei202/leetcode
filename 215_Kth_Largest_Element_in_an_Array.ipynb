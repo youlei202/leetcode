{
 "metadata": {
  "language_info": {
   "codemirror_mode": {
    "name": "ipython",
    "version": 3
   },
   "file_extension": ".py",
   "mimetype": "text/x-python",
   "name": "python",
   "nbconvert_exporter": "python",
   "pygments_lexer": "ipython3",
   "version": "3.7.3-final"
  },
  "orig_nbformat": 2,
  "kernelspec": {
   "name": "python3",
   "display_name": "Python 3",
   "language": "python"
  }
 },
 "nbformat": 4,
 "nbformat_minor": 2,
 "cells": [
  {
   "cell_type": "code",
   "execution_count": 1,
   "metadata": {},
   "outputs": [],
   "source": [
    "from typing import List"
   ]
  },
  {
   "cell_type": "code",
   "execution_count": 34,
   "metadata": {},
   "outputs": [],
   "source": [
    "class Solution:\n",
    "    # It is a medium level question but the following code \n",
    "    # just seems more than fast enough to pass the test so...wtf\n",
    "    def findKthLargest(self, nums: List[int], k: int) -> int:\n",
    "        nums = sorted(nums)\n",
    "        return nums[-k]\n"
   ]
  },
  {
   "cell_type": "code",
   "execution_count": 35,
   "metadata": {},
   "outputs": [
    {
     "output_type": "execute_result",
     "data": {
      "text/plain": [
       "5"
      ]
     },
     "metadata": {},
     "execution_count": 35
    }
   ],
   "source": [
    "Solution().findKthLargest([3,2,1,5,6,4],2)"
   ]
  },
  {
   "cell_type": "code",
   "execution_count": 85,
   "metadata": {},
   "outputs": [],
   "source": [
    "class Solution:\n",
    "    # Quick selection algorithm\n",
    "\n",
    "    def findKthLargest(self, nums: List[int], k: int) -> int:\n",
    "        l = 0 \n",
    "        r = len(nums) - 1\n",
    "        target = len(nums) - k\n",
    "        while l < r:\n",
    "            mid = self.quickSelection(nums, l, r)\n",
    "            if mid == target:\n",
    "                return nums[mid]\n",
    "            elif mid > target:\n",
    "                r = mid - 1\n",
    "            else:\n",
    "                l = mid + 1\n",
    "        return nums[l]\n",
    "\n",
    "    def quickSelection(self, nums: List[int], l: int, r:int):\n",
    "        i = l + 1\n",
    "        j = r\n",
    "        while True:\n",
    "            while i < r and nums[i] <= nums[l]:\n",
    "                i += 1\n",
    "            while l < j and nums[j] >= nums[l]:\n",
    "                j -= 1\n",
    "            if i >= j:\n",
    "                break\n",
    "            self.swap(nums, i, j)\n",
    "\n",
    "        self.swap(nums, l, j)\n",
    "        return j\n",
    "\n",
    "    def swap(self, nums: List[int], l: int, r:int):\n",
    "        t = nums[l]\n",
    "        nums[l] = nums[r]\n",
    "        nums[r] = t\n",
    "    "
   ]
  },
  {
   "cell_type": "code",
   "execution_count": 86,
   "metadata": {},
   "outputs": [
    {
     "output_type": "stream",
     "name": "stdout",
     "text": [
      "[1, 2, 3, 5, 6, 4] 2\n[1, 2, 3, 4, 5, 6] 4\n"
     ]
    },
    {
     "output_type": "execute_result",
     "data": {
      "text/plain": [
       "5"
      ]
     },
     "metadata": {},
     "execution_count": 86
    }
   ],
   "source": [
    "Solution().findKthLargest([3,2,1,5,6,4],2)"
   ]
  },
  {
   "cell_type": "code",
   "execution_count": null,
   "metadata": {},
   "outputs": [],
   "source": []
  }
 ]
}