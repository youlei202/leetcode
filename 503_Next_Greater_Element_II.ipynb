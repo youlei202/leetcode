{
 "cells": [
  {
   "cell_type": "code",
   "execution_count": 12,
   "metadata": {},
   "outputs": [],
   "source": [
    "from typing import List\n",
    "import numpy as np"
   ]
  },
  {
   "cell_type": "code",
   "execution_count": 55,
   "metadata": {},
   "outputs": [],
   "source": [
    "class Solution:\n",
    "    def nextGreaterElements(self, nums: List[int]) -> List[int]:\n",
    "        stack = []\n",
    "        res = [ -1 for i in range(len(nums)) ]\n",
    "        k = 2 * len(nums) - 1\n",
    "        stack_top = None\n",
    "        while k >= 0:\n",
    "            i = k % len(nums)\n",
    "            if stack_top is None or nums[i] < stack_top:\n",
    "                stack.append(i)\n",
    "                res[i] = stack_top if stack_top is not None else -1\n",
    "                stack_top = nums[stack[-1]]\n",
    "                k -= 1\n",
    "            else:\n",
    "                stack.pop()\n",
    "                if len(stack) == 0:\n",
    "                    stack_top = None\n",
    "                else:\n",
    "                    stack_top = nums[stack[-1]]\n",
    "        return res\n",
    "                    \n",
    "            "
   ]
  },
  {
   "cell_type": "code",
   "execution_count": 56,
   "metadata": {},
   "outputs": [
    {
     "data": {
      "text/plain": [
       "[0, -1]"
      ]
     },
     "execution_count": 56,
     "metadata": {},
     "output_type": "execute_result"
    }
   ],
   "source": [
    "nums = [-1, 0]\n",
    "Solution().nextGreaterElements(nums)"
   ]
  },
  {
   "cell_type": "code",
   "execution_count": null,
   "metadata": {},
   "outputs": [],
   "source": []
  }
 ],
 "metadata": {
  "kernelspec": {
   "display_name": "Python 3",
   "language": "python",
   "name": "python3"
  },
  "language_info": {
   "codemirror_mode": {
    "name": "ipython",
    "version": 3
   },
   "file_extension": ".py",
   "mimetype": "text/x-python",
   "name": "python",
   "nbconvert_exporter": "python",
   "pygments_lexer": "ipython3",
   "version": "3.7.7"
  }
 },
 "nbformat": 4,
 "nbformat_minor": 4
}
