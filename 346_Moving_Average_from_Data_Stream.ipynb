{
 "metadata": {
  "language_info": {
   "codemirror_mode": {
    "name": "ipython",
    "version": 3
   },
   "file_extension": ".py",
   "mimetype": "text/x-python",
   "name": "python",
   "nbconvert_exporter": "python",
   "pygments_lexer": "ipython3",
   "version": "3.7.7"
  },
  "orig_nbformat": 2,
  "kernelspec": {
   "name": "python3",
   "display_name": "Python 3.7.7 64-bit ('jupyterlab': conda)",
   "metadata": {
    "interpreter": {
     "hash": "a18a76d628cf6e0dbe981d2c2a4370e0d5a000afd243b507521121538dfb0428"
    }
   }
  }
 },
 "nbformat": 4,
 "nbformat_minor": 2,
 "cells": [
  {
   "cell_type": "code",
   "execution_count": 1,
   "metadata": {},
   "outputs": [],
   "source": [
    "import numpy as np\n",
    "\n",
    "class MovingAverage:\n",
    "\n",
    "    def __init__(self, size: int):\n",
    "        \"\"\"\n",
    "        Initialize your data structure here.\n",
    "        \"\"\"\n",
    "        self.window_size = size\n",
    "        self.window = []\n",
    "        \n",
    "    def next(self, val: int) -> float:\n",
    "\n",
    "        self.window.append(val)\n",
    "        if len(self.window) > self.window_size:\n",
    "            self.window = self.window[1:]\n",
    "            \n",
    "        return np.mean(self.window)\n",
    "\n",
    "        \n"
   ]
  }
 ]
}