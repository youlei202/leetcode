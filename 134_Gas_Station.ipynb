{
 "metadata": {
  "language_info": {
   "codemirror_mode": {
    "name": "ipython",
    "version": 3
   },
   "file_extension": ".py",
   "mimetype": "text/x-python",
   "name": "python",
   "nbconvert_exporter": "python",
   "pygments_lexer": "ipython3",
   "version": "3.7.3-final"
  },
  "orig_nbformat": 2,
  "kernelspec": {
   "name": "python3",
   "display_name": "Python 3",
   "language": "python"
  }
 },
 "nbformat": 4,
 "nbformat_minor": 2,
 "cells": [
  {
   "cell_type": "code",
   "execution_count": 1,
   "metadata": {},
   "outputs": [],
   "source": [
    "from typing import List"
   ]
  },
  {
   "cell_type": "code",
   "execution_count": 140,
   "metadata": {},
   "outputs": [],
   "source": [
    "class Solution:\n",
    "    def canCompleteCircuit(self, gas: List[int], cost: List[int]) -> int:\n",
    "        if sum(gas) < sum(cost):\n",
    "            return -1\n",
    "\n",
    "        start = -1\n",
    "        tank = 0\n",
    "        i = 0\n",
    "        in_loop = False\n",
    "        while True:\n",
    "            tank_prev = tank\n",
    "            tank = gas[i] - cost[i] + tank_prev\n",
    "            # print(f'i={i}, tank_prev={tank_prev}, tank={tank}, start={start}, in_loop={in_loop}')\n",
    "            if not in_loop:\n",
    "                if i == len(gas):\n",
    "                    return -1\n",
    "                if tank >= tank_prev:\n",
    "                    in_loop = True\n",
    "                    tank = gas[i] - cost[i]\n",
    "                    start = i\n",
    "                i = (i+1) % len(gas)\n",
    "            else:\n",
    "                if i % len(gas) == start:\n",
    "                    return start \n",
    "                if tank < 0:\n",
    "                    in_loop = False\n",
    "                i = (i+1) % len(gas)\n",
    "\n",
    "        return start\n",
    "\n"
   ]
  },
  {
   "cell_type": "code",
   "execution_count": 143,
   "metadata": {
    "tags": []
   },
   "outputs": [
    {
     "output_type": "stream",
     "name": "stdout",
     "text": [
      "i=0, tank_prev=0, tank=3, start=-1, in_loop=False\ni=1, tank_prev=3, tank=-4, start=0, in_loop=True\ni=2, tank_prev=-4, tank=-2, start=0, in_loop=False\ni=3, tank_prev=2, tank=1, start=2, in_loop=True\ni=4, tank_prev=1, tank=4, start=2, in_loop=True\ni=0, tank_prev=4, tank=7, start=2, in_loop=True\ni=1, tank_prev=7, tank=0, start=2, in_loop=True\ni=2, tank_prev=0, tank=2, start=2, in_loop=True\n"
     ]
    },
    {
     "output_type": "execute_result",
     "data": {
      "text/plain": [
       "2"
      ]
     },
     "metadata": {},
     "execution_count": 143
    }
   ],
   "source": [
    "gas = [6,1,4,3,5]\n",
    "cost = [3,8,2,4,2]\n",
    "Solution().canCompleteCircuit(gas, cost)"
   ]
  },
  {
   "cell_type": "code",
   "execution_count": null,
   "metadata": {},
   "outputs": [],
   "source": []
  },
  {
   "cell_type": "code",
   "execution_count": 87,
   "metadata": {},
   "outputs": [
    {
     "output_type": "execute_result",
     "data": {
      "text/plain": [
       "1"
      ]
     },
     "metadata": {},
     "execution_count": 87
    }
   ],
   "source": [
    "-1 % 2"
   ]
  },
  {
   "cell_type": "code",
   "execution_count": null,
   "metadata": {},
   "outputs": [],
   "source": []
  }
 ]
}