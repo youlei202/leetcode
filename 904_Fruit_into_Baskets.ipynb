{
 "cells": [
  {
   "cell_type": "code",
   "execution_count": 2,
   "metadata": {},
   "outputs": [],
   "source": [
    "from typing import List"
   ]
  },
  {
   "cell_type": "code",
   "execution_count": 225,
   "metadata": {},
   "outputs": [],
   "source": [
    "class Solution:\n",
    "    def totalFruit(self, tree: List[int]) -> int:\n",
    "        \n",
    "        if len(tree)==0:\n",
    "            return 0\n",
    "        \n",
    "        left = 0\n",
    "        right = 0\n",
    "        \n",
    "        best_left = 0\n",
    "        best_right = 0\n",
    "        \n",
    "        picked_fruit_types = {}\n",
    "        while right < len(tree):  \n",
    "            fruit_type = tree[right]\n",
    "            if fruit_type not in picked_fruit_types:\n",
    "                picked_fruit_types[fruit_type] = 1\n",
    "            else:\n",
    "                picked_fruit_types[fruit_type] += 1\n",
    "            if len(picked_fruit_types)<3:\n",
    "                if right-left > best_right-best_left:\n",
    "                    best_left = left\n",
    "                    best_right = right\n",
    "            else:\n",
    "                while True:\n",
    "                    picked_fruit_types[tree[left]] -= 1\n",
    "                    if picked_fruit_types[tree[left]]==0:\n",
    "                        del picked_fruit_types[tree[left]]\n",
    "                        left += 1\n",
    "                        break\n",
    "                    else:\n",
    "                        left += 1\n",
    "                    \n",
    "            right += 1\n",
    "        return best_right-best_left+1\n",
    "                \n",
    "        "
   ]
  },
  {
   "cell_type": "code",
   "execution_count": 226,
   "metadata": {},
   "outputs": [],
   "source": [
    "solution = Solution()"
   ]
  },
  {
   "cell_type": "code",
   "execution_count": 227,
   "metadata": {},
   "outputs": [
    {
     "data": {
      "text/plain": [
       "6"
      ]
     },
     "execution_count": 227,
     "metadata": {},
     "output_type": "execute_result"
    }
   ],
   "source": [
    "tree = [1,2,1,1,1,2]\n",
    "solution.totalFruit(tree)"
   ]
  }
 ],
 "metadata": {
  "kernelspec": {
   "display_name": "Python 3",
   "language": "python",
   "name": "python3"
  },
  "language_info": {
   "codemirror_mode": {
    "name": "ipython",
    "version": 3
   },
   "file_extension": ".py",
   "mimetype": "text/x-python",
   "name": "python",
   "nbconvert_exporter": "python",
   "pygments_lexer": "ipython3",
   "version": "3.7.7"
  }
 },
 "nbformat": 4,
 "nbformat_minor": 4
}
