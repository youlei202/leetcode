{
 "cells": [
  {
   "cell_type": "code",
   "execution_count": 6,
   "metadata": {},
   "outputs": [],
   "source": [
    "# Definition for a binary tree node.\n",
    "class TreeNode:\n",
    "    def __init__(self, val=0, left=None, right=None):\n",
    "        self.val = val\n",
    "        self.left = left\n",
    "        self.right = right\n",
    "class Solution:\n",
    "    \n",
    "    def __init__(self):\n",
    "        self.bottom_left_val = None\n",
    "        self.max_level = -1\n",
    "        \n",
    "        \n",
    "    def traverse(self, node: TreeNode, level):\n",
    "        \n",
    "        if node is None:\n",
    "            return\n",
    "        \n",
    "        if level > self.max_level:\n",
    "            self.bottom_left_val = node.val\n",
    "            self.max_level = level\n",
    "            \n",
    "        self.traverse(node.left, level+1)\n",
    "        self.traverse(node.right, level+1)\n",
    "        \n",
    "    def findBottomLeftValue(self, root: TreeNode) -> int:\n",
    "        \n",
    "        self.traverse(root, 0)\n",
    "\n",
    "        return self.bottom_left_val"
   ]
  },
  {
   "cell_type": "code",
   "execution_count": null,
   "metadata": {},
   "outputs": [],
   "source": []
  }
 ],
 "metadata": {
  "kernelspec": {
   "display_name": "Python 3",
   "language": "python",
   "name": "python3"
  },
  "language_info": {
   "codemirror_mode": {
    "name": "ipython",
    "version": 3
   },
   "file_extension": ".py",
   "mimetype": "text/x-python",
   "name": "python",
   "nbconvert_exporter": "python",
   "pygments_lexer": "ipython3",
   "version": "3.7.7"
  }
 },
 "nbformat": 4,
 "nbformat_minor": 4
}
