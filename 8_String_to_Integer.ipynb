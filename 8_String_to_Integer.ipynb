{
 "cells": [
  {
   "cell_type": "code",
   "execution_count": 5,
   "metadata": {
    "collapsed": true
   },
   "outputs": [],
   "source": [
    "class Solution(object):\n",
    "    def myAtoi(self, str):\n",
    "        \"\"\"\n",
    "        :type str: str\n",
    "        :rtype: int\n",
    "        \"\"\"\n",
    "        i = 0\n",
    "        found = False\n",
    "        st = ed = 0\n",
    "        num = []\n",
    "        positive = True\n",
    "        while i<len(str) and str[i].isspace(): i += 1\n",
    "        while i<len(str):\n",
    "            if found == False and ( str[i].isdigit() or str[i] in ['+', '-']) :\n",
    "                found = True\n",
    "                st = i\n",
    "                if str[i] == '-':\n",
    "                    positive = False\n",
    "            elif found == False:\n",
    "                return 0\n",
    "            elif found == True and not str[i].isdigit():\n",
    "                break                \n",
    "            i += 1\n",
    "            \n",
    "        ed = i \n",
    "        \n",
    "        if found == True:\n",
    "            num = str[st:ed]\n",
    "        else:\n",
    "            return 0\n",
    "        \n",
    "        if len(num) == 0:\n",
    "            return 0\n",
    "        elif len(num) == 1 and not num[0].isdigit():\n",
    "            return 0\n",
    "        \n",
    "        if positive:\n",
    "            return min(abs(int(''.join(num))),2147483647)\n",
    "        else:\n",
    "            return max(-abs(int(''.join(num))),-2147483648)"
   ]
  },
  {
   "cell_type": "code",
   "execution_count": 7,
   "metadata": {},
   "outputs": [
    {
     "data": {
      "text/plain": [
       "-6"
      ]
     },
     "execution_count": 7,
     "metadata": {},
     "output_type": "execute_result"
    }
   ],
   "source": [
    "Solution().myAtoi(\"-6aa7\")"
   ]
  },
  {
   "cell_type": "code",
   "execution_count": null,
   "metadata": {
    "collapsed": true
   },
   "outputs": [],
   "source": []
  }
 ],
 "metadata": {
  "kernelspec": {
   "display_name": "Python 2",
   "language": "python",
   "name": "python2"
  },
  "language_info": {
   "codemirror_mode": {
    "name": "ipython",
    "version": 2
   },
   "file_extension": ".py",
   "mimetype": "text/x-python",
   "name": "python",
   "nbconvert_exporter": "python",
   "pygments_lexer": "ipython2",
   "version": "2.7.14"
  }
 },
 "nbformat": 4,
 "nbformat_minor": 2
}
