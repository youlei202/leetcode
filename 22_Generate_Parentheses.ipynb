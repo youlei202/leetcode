{
 "metadata": {
  "language_info": {
   "codemirror_mode": {
    "name": "ipython",
    "version": 3
   },
   "file_extension": ".py",
   "mimetype": "text/x-python",
   "name": "python",
   "nbconvert_exporter": "python",
   "pygments_lexer": "ipython3",
   "version": "3.7.7-final"
  },
  "orig_nbformat": 2,
  "kernelspec": {
   "name": "python3",
   "display_name": "Python 3.7.7 64-bit ('jupyterlab': conda)",
   "metadata": {
    "interpreter": {
     "hash": "a18a76d628cf6e0dbe981d2c2a4370e0d5a000afd243b507521121538dfb0428"
    }
   }
  }
 },
 "nbformat": 4,
 "nbformat_minor": 2,
 "cells": [
  {
   "cell_type": "code",
   "execution_count": 1,
   "metadata": {},
   "outputs": [],
   "source": [
    "from typing import List"
   ]
  },
  {
   "cell_type": "code",
   "execution_count": 12,
   "metadata": {},
   "outputs": [],
   "source": [
    "class Solution:\n",
    "\n",
    "    def __init__(self):\n",
    "        self.solutions = []\n",
    "        self.n = 0\n",
    "\n",
    "    def _backtracking(self, fixed, opened, left_count, right_count):\n",
    "\n",
    "        if left_count > self.n or right_count > self.n or right_count > left_count:\n",
    "            return\n",
    "\n",
    "        if right_count < left_count:\n",
    "            self._backtracking(fixed, opened+['('], left_count+1, right_count)\n",
    "            self._backtracking(fixed, opened+[')'], left_count, right_count+1)\n",
    "\n",
    "        if right_count == left_count:\n",
    "            fixed = fixed + opened\n",
    "            opened = []\n",
    "            if left_count == self.n and right_count == self.n:\n",
    "                self.solutions.append(''.join(fixed))\n",
    "            else: \n",
    "                self._backtracking(fixed, opened+['('], left_count+1, right_count)\n",
    "        \n",
    "\n",
    "    def generateParenthesis(self, n: int) -> List[str]:\n",
    "        self.n = n\n",
    "        self._backtracking([], [], 0, 0)\n",
    "        return self.solutions"
   ]
  },
  {
   "cell_type": "code",
   "execution_count": 13,
   "metadata": {},
   "outputs": [
    {
     "output_type": "execute_result",
     "data": {
      "text/plain": [
       "['((()))', '(()())', '(())()', '()(())', '()()()']"
      ]
     },
     "metadata": {},
     "execution_count": 13
    }
   ],
   "source": [
    "Solution().generateParenthesis(3)"
   ]
  },
  {
   "cell_type": "code",
   "execution_count": null,
   "metadata": {},
   "outputs": [],
   "source": [
    "['(', '(', '(', ')', ')', ')']"
   ]
  }
 ]
}