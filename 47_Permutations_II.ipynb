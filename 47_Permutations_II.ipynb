{
 "cells": [
  {
   "cell_type": "code",
   "execution_count": 1,
   "metadata": {},
   "outputs": [],
   "source": [
    "class Solution(object):\n",
    "    \n",
    "    def __init__(self):\n",
    "        self.result_list = []\n",
    "        \n",
    "    def switch(self, nums, i, j):\n",
    "        nums_copy = nums.copy()\n",
    "        t = nums_copy[i]\n",
    "        nums_copy[i] = nums_copy[j]\n",
    "        nums_copy[j] = t\n",
    "        return nums_copy\n",
    "    \n",
    "    \n",
    "    def permute_recursive(self, fixed, remain):\n",
    "        \n",
    "        if len(remain) < 1:\n",
    "            self.result_list.append(fixed)\n",
    "\n",
    "        else:\n",
    "            for i in range(len(remain)):\n",
    "                fixed_copy = fixed.copy()\n",
    "                remain_updated = self.switch(remain, 0, i)\n",
    "                fixed_copy.append(remain_updated[0])\n",
    "                self.permute_recursive(fixed_copy, remain_updated[1:])\n",
    "    \n",
    "    def permuteUnique(self, nums):\n",
    "        \"\"\"\n",
    "        :type nums: List[int]\n",
    "        :rtype: List[List[int]]\n",
    "        \"\"\"\n",
    "        \n",
    "        self.permute_recursive([], nums)\n",
    "\n",
    "        return list(map(list, list(set(list(map(tuple,self.result_list))))))"
   ]
  },
  {
   "cell_type": "code",
   "execution_count": 30,
   "metadata": {},
   "outputs": [
    {
     "data": {
      "text/plain": [
       "[[1, 2, 1, 2],\n",
       " [1, 1, 2, 2],\n",
       " [2, 1, 2, 1],\n",
       " [2, 2, 1, 1],\n",
       " [2, 1, 1, 2],\n",
       " [1, 2, 2, 1]]"
      ]
     },
     "execution_count": 30,
     "metadata": {},
     "output_type": "execute_result"
    }
   ],
   "source": [
    "solution = Solution()\n",
    "solution.permuteUnique([1,1,2,2])"
   ]
  },
  {
   "cell_type": "code",
   "execution_count": 28,
   "metadata": {},
   "outputs": [],
   "source": [
    "class Solution2(object):\n",
    "    \n",
    "    def __init__(self):\n",
    "        self.result_list = []\n",
    "        self.mem = {}\n",
    "        \n",
    "    def switch(self, nums, i, j):\n",
    "        nums_copy = nums.copy()\n",
    "        t = nums_copy[i]\n",
    "        nums_copy[i] = nums_copy[j]\n",
    "        nums_copy[j] = t\n",
    "        return nums_copy\n",
    "    \n",
    "    \n",
    "    def permute_recursive(self, fixed, remain):\n",
    "        \n",
    "        if len(remain) < 1:\n",
    "            self.result_list.append(fixed)\n",
    "\n",
    "        else:\n",
    "            for i in range(len(remain)):\n",
    "                fixed_copy = fixed.copy()\n",
    "                remain_updated = self.switch(remain, 0, i)\n",
    "                fixed_copy.append(remain_updated[0])\n",
    "                if (tuple(fixed_copy), tuple(sorted(remain_updated))) not in self.mem:\n",
    "                    self.permute_recursive(fixed_copy, remain_updated[1:])\n",
    "                    self.mem[(tuple(fixed_copy), tuple(sorted(remain_updated)))] = 1\n",
    "\n",
    "    \n",
    "    def permuteUnique(self, nums):\n",
    "        \"\"\"\n",
    "        :type nums: List[int]\n",
    "        :rtype: List[List[int]]\n",
    "        \"\"\"\n",
    "        \n",
    "        self.permute_recursive([], nums)\n",
    "\n",
    "        return self.result_list"
   ]
  },
  {
   "cell_type": "code",
   "execution_count": 29,
   "metadata": {},
   "outputs": [
    {
     "data": {
      "text/plain": [
       "[[1, 1, 2, 2],\n",
       " [1, 2, 1, 2],\n",
       " [1, 2, 2, 1],\n",
       " [2, 1, 1, 2],\n",
       " [2, 1, 2, 1],\n",
       " [2, 2, 1, 1]]"
      ]
     },
     "execution_count": 29,
     "metadata": {},
     "output_type": "execute_result"
    }
   ],
   "source": [
    "solution = Solution2()\n",
    "solution.permuteUnique([1,1,2,2])"
   ]
  }
 ],
 "metadata": {
  "kernelspec": {
   "display_name": "Python 3",
   "language": "python",
   "name": "python3"
  },
  "language_info": {
   "codemirror_mode": {
    "name": "ipython",
    "version": 3
   },
   "file_extension": ".py",
   "mimetype": "text/x-python",
   "name": "python",
   "nbconvert_exporter": "python",
   "pygments_lexer": "ipython3",
   "version": "3.7.7"
  }
 },
 "nbformat": 4,
 "nbformat_minor": 4
}
