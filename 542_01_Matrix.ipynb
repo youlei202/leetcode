{
 "metadata": {
  "language_info": {
   "codemirror_mode": {
    "name": "ipython",
    "version": 3
   },
   "file_extension": ".py",
   "mimetype": "text/x-python",
   "name": "python",
   "nbconvert_exporter": "python",
   "pygments_lexer": "ipython3",
   "version": "3.7.7-final"
  },
  "orig_nbformat": 2,
  "kernelspec": {
   "name": "python3",
   "display_name": "Python 3",
   "language": "python"
  }
 },
 "nbformat": 4,
 "nbformat_minor": 2,
 "cells": [
  {
   "cell_type": "code",
   "execution_count": 4,
   "metadata": {},
   "outputs": [],
   "source": [
    "from typing import List"
   ]
  },
  {
   "cell_type": "code",
   "execution_count": 22,
   "metadata": {},
   "outputs": [],
   "source": [
    "class Solution:\n",
    "    def updateMatrix(self, matrix: List[List[int]]) -> List[List[int]]: \n",
    "        # Initialize a dist_mat\n",
    "        dist_mat = [ [ -1 for j in range(len(matrix[0])) ]\n",
    "                          for i in range(len(matrix   )) ]\n",
    " \n",
    "        # Traverse all elements in the matrix\n",
    "        # For each element, check if it was visited. \n",
    "        # If not, perform bfs to find the shortest distance to zero\n",
    "        # Update dist_mat by the returned value of bfs\n",
    "\n",
    "        for i in range(len(matrix)):\n",
    "            for j in range(len(matrix[0])):\n",
    "                if dist_mat[i][j] >= 0: \n",
    "                    continue\n",
    "                d_ij = self.bfs(i, j, matrix, dist_mat)\n",
    "                dist_mat[i][j] = d_ij\n",
    "        \n",
    "        return dist_mat\n",
    "        \n",
    "        \n",
    "        \n",
    "    def bfs(self, i, j, matrix: List[List[int]], dist_mat: List[List[int]]) -> int:\n",
    "        # The bfs stops until we find the first zero. \n",
    "        # Once found, return the traveled distance\n",
    "        queue = [ (i, j, 0) ]\n",
    "        while len(queue)>0: \n",
    "            (k, h, d) = queue[0]\n",
    "            queue = queue[1:]\n",
    "\n",
    "            if matrix[k][h] == 0:\n",
    "                return d\n",
    "\n",
    "            if k > 0:\n",
    "                queue.append((k-1, h, d+1))\n",
    "            if k < len(matrix) - 1:\n",
    "                queue.append((k+1, h, d+1))\n",
    "            if h > 0:\n",
    "                queue.append((k, h-1, d+1))\n",
    "            if h < len(matrix[0]) - 1:\n",
    "                queue.append((k, h+1, d+1))\n",
    "\n",
    "        return -1\n",
    "            \n",
    "\n",
    "\n",
    "        \n",
    "\n",
    "        "
   ]
  },
  {
   "cell_type": "code",
   "execution_count": 23,
   "metadata": {},
   "outputs": [],
   "source": [
    "matrix = [[0,1,0],[0,1,0],[0,1,0],[0,1,0],[0,1,0]]"
   ]
  },
  {
   "cell_type": "code",
   "execution_count": 24,
   "metadata": {},
   "outputs": [
    {
     "output_type": "execute_result",
     "data": {
      "text/plain": [
       "[[0, 1, 0], [0, 1, 0], [0, 1, 0], [0, 1, 0], [0, 1, 0]]"
      ]
     },
     "metadata": {},
     "execution_count": 24
    }
   ],
   "source": [
    "Solution().updateMatrix(matrix)"
   ]
  },
  {
   "cell_type": "code",
   "execution_count": null,
   "metadata": {},
   "outputs": [],
   "source": []
  }
 ]
}