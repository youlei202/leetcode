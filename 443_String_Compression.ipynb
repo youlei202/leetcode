{
 "metadata": {
  "language_info": {
   "codemirror_mode": {
    "name": "ipython",
    "version": 3
   },
   "file_extension": ".py",
   "mimetype": "text/x-python",
   "name": "python",
   "nbconvert_exporter": "python",
   "pygments_lexer": "ipython3",
   "version": "3.7.7-final"
  },
  "orig_nbformat": 2,
  "kernelspec": {
   "name": "python3",
   "display_name": "Python 3.7.7 64-bit ('jupyterlab': conda)",
   "metadata": {
    "interpreter": {
     "hash": "a18a76d628cf6e0dbe981d2c2a4370e0d5a000afd243b507521121538dfb0428"
    }
   }
  }
 },
 "nbformat": 4,
 "nbformat_minor": 2,
 "cells": [
  {
   "cell_type": "code",
   "execution_count": 1,
   "metadata": {},
   "outputs": [],
   "source": [
    "from typing import List"
   ]
  },
  {
   "cell_type": "code",
   "execution_count": 186,
   "metadata": {},
   "outputs": [],
   "source": [
    "class Solution:\n",
    "    def compress(self, chars: List[str]) -> int:\n",
    "        i, j = 0, 1\n",
    "        n = len(chars)\n",
    "        count = 1\n",
    "        while i < n-1 and j < n:\n",
    "            if chars[i] == chars[j]:\n",
    "                count += 1\n",
    "                j += 1\n",
    "            elif count < 2:\n",
    "                i += 1\n",
    "                j += 1\n",
    "            else:\n",
    "                digits = str(count)\n",
    "                count = 1\n",
    "                for d in digits:\n",
    "                    i += 1\n",
    "                    chars[i] = d\n",
    "                h = i + 1\n",
    "                while j < n:\n",
    "                    chars[h] = chars[j]\n",
    "                    h += 1\n",
    "                    j += 1\n",
    "                n = n - (j - h)\n",
    "                i += 1\n",
    "                j = i + 1\n",
    "        if j - i >= 2 and chars[j-1] == chars[i]:\n",
    "            count = j-i\n",
    "            digits = str(count)\n",
    "            for d in digits:\n",
    "                i += 1\n",
    "                chars[i] = d\n",
    "            n = i + 1\n",
    "        return n\n",
    "\n"
   ]
  },
  {
   "cell_type": "code",
   "execution_count": 188,
   "metadata": {},
   "outputs": [
    {
     "output_type": "stream",
     "name": "stdout",
     "text": [
      "6 ['a', '2', 'b', '2', 'c', '3']\n"
     ]
    }
   ],
   "source": [
    "chars = [\"a\",\"a\",\"b\",\"b\",\"c\",\"c\",\"c\"]\n",
    "n = Solution().compress(chars)\n",
    "print(n, chars[:n])\n"
   ]
  },
  {
   "cell_type": "code",
   "execution_count": 176,
   "metadata": {},
   "outputs": [],
   "source": [
    "# error 1: didn't check if count is less than 2\n",
    "# error 2: n = n - (j-h) rather than n = j-h\n",
    "# error 3: forgot to add the processing after while loop\n",
    "# error 4: forgot to set count to zero after compression\n",
    "# error 5: error 1 is not correctly revised\n",
    "# error 6: When correcting error 3, count is not being added by one\n",
    "# error 7: When correcting error 6, count should not be added by one, instead, need to check if j-i > 2\n",
    "# error 8: When correcting error 7, count should be j-i, and condition should be j - i >= 2\n",
    "# error 9: In correcting error 4, count should be set to one rather than zero"
   ]
  },
  {
   "cell_type": "code",
   "execution_count": 191,
   "metadata": {},
   "outputs": [],
   "source": [
    "class Solution:\n",
    "    def compress(self, chars):\n",
    "        i = j = 0\n",
    "        while j < len(chars):\n",
    "            while j < len(chars) and chars[j] == chars[i]:\n",
    "                j += 1\n",
    "            if j - i == 1:\n",
    "                i = j\n",
    "            else:\n",
    "                chars[i + 1 : j] = str(j - i)\n",
    "                i = i + 2\n",
    "                j = i\n",
    "        return i\n"
   ]
  },
  {
   "cell_type": "code",
   "execution_count": 192,
   "metadata": {},
   "outputs": [
    {
     "output_type": "stream",
     "name": "stdout",
     "text": [
      "6 ['a', '2', 'b', '2', 'c', '3']\n"
     ]
    }
   ],
   "source": [
    "chars = [\"a\",\"a\",\"b\",\"b\",\"c\",\"c\",\"c\"]\n",
    "n = Solution().compress(chars)\n",
    "print(n, chars[:n])\n"
   ]
  },
  {
   "cell_type": "code",
   "execution_count": null,
   "metadata": {},
   "outputs": [],
   "source": []
  }
 ]
}