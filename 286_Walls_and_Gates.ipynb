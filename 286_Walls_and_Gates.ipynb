{
 "metadata": {
  "language_info": {
   "codemirror_mode": {
    "name": "ipython",
    "version": 3
   },
   "file_extension": ".py",
   "mimetype": "text/x-python",
   "name": "python",
   "nbconvert_exporter": "python",
   "pygments_lexer": "ipython3",
   "version": "3.7.7-final"
  },
  "orig_nbformat": 2,
  "kernelspec": {
   "name": "python3",
   "display_name": "Python 3.7.7 64-bit ('jupyterlab': conda)",
   "metadata": {
    "interpreter": {
     "hash": "a18a76d628cf6e0dbe981d2c2a4370e0d5a000afd243b507521121538dfb0428"
    }
   }
  }
 },
 "nbformat": 4,
 "nbformat_minor": 2,
 "cells": [
  {
   "cell_type": "code",
   "execution_count": 5,
   "metadata": {},
   "outputs": [],
   "source": [
    "from typing import List"
   ]
  },
  {
   "cell_type": "code",
   "execution_count": 97,
   "metadata": {},
   "outputs": [],
   "source": [
    "class Solution:\n",
    "\n",
    "    def bfs(self, rooms, i, j):\n",
    "        queue = [ (i, j, 0) ]\n",
    "        visited = set()\n",
    "        while len(queue) > 0:\n",
    "            (i, j, distance) = queue[0]\n",
    "\n",
    "            queue = queue[1:]\n",
    "            visited.add( (i, j) )\n",
    "\n",
    "            val = rooms[i][j]\n",
    "            if val > distance:\n",
    "                rooms[i][j] = distance\n",
    "\n",
    "            if i > 0 and rooms[i-1][j] > 0 and (i-1,j) not in visited: # explore up\n",
    "                queue.append( (i-1, j, distance+1) )\n",
    "            if i < len(rooms)-1 and rooms[i+1][j] > 0 and (i+1,j) not in visited: # explore down\n",
    "                queue.append( (i+1, j, distance+1) )\n",
    "            if j > 0 and rooms[i][j-1] > 0 and (i,j-1) not in visited: # explore left\n",
    "                queue.append( (i, j-1, distance+1) )\n",
    "            if j < len(rooms[0])-1 and rooms[i][j+1] > 0 and (i,j+1) not in visited: # explore right\n",
    "                queue.append( (i, j+1, distance+1) )\n",
    "\n",
    "    def dfs(self, rooms, i, j, distance):\n",
    "        if i<0 or j<0 or i>=len(rooms) or j>=len(rooms[0]) or distance>rooms[i][j]:\n",
    "            return \n",
    "\n",
    "        rooms[i][j] = distance\n",
    "        self.dfs(rooms, i-1, j, distance+1)\n",
    "        self.dfs(rooms, i+1, j, distance+1)\n",
    "        self.dfs(rooms, i, j-1, distance+1)\n",
    "        self.dfs(rooms, i, j+1, distance+1)\n",
    "    \n",
    "    def wallsAndGates(self, rooms: List[List[int]]) -> None:\n",
    "        \"\"\"\n",
    "        Do not return anything, modify rooms in-place instead.\n",
    "        \"\"\"\n",
    "        for i in range(len(rooms)):\n",
    "            for j in range(len(rooms[0])):\n",
    "                val = rooms[i][j]\n",
    "                if val == 0:\n",
    "                    # self.bfs(rooms, i, j)\n",
    "                    self.dfs(rooms, i, j, 0)\n",
    "\n"
   ]
  },
  {
   "cell_type": "code",
   "execution_count": 98,
   "metadata": {},
   "outputs": [],
   "source": [
    "rooms = [[2147483647,-1,0,2147483647],\n",
    "         [2147483647,2147483647,2147483647,-1],\n",
    "         [2147483647,-1,2147483647,-1],\n",
    "         [0,-1,2147483647,2147483647]]"
   ]
  },
  {
   "cell_type": "code",
   "execution_count": 99,
   "metadata": {},
   "outputs": [],
   "source": [
    "Solution().wallsAndGates(rooms)"
   ]
  },
  {
   "cell_type": "code",
   "execution_count": 100,
   "metadata": {},
   "outputs": [
    {
     "output_type": "execute_result",
     "data": {
      "text/plain": [
       "[[3, -1, 0, 1], [2, 2, 1, -1], [1, -1, 2, -1], [0, -1, 3, 4]]"
      ]
     },
     "metadata": {},
     "execution_count": 100
    }
   ],
   "source": [
    "rooms"
   ]
  },
  {
   "cell_type": "code",
   "execution_count": 14,
   "metadata": {},
   "outputs": [
    {
     "output_type": "execute_result",
     "data": {
      "text/plain": [
       "1"
      ]
     },
     "metadata": {},
     "execution_count": 14
    }
   ],
   "source": [
    "min(1,2,3)"
   ]
  },
  {
   "cell_type": "code",
   "execution_count": null,
   "metadata": {},
   "outputs": [],
   "source": []
  }
 ]
}