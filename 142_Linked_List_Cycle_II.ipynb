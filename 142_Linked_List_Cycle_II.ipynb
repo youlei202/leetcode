{
 "cells": [
  {
   "cell_type": "code",
   "execution_count": 7,
   "metadata": {},
   "outputs": [],
   "source": [
    "# Definition for singly-linked list.\n",
    "class ListNode:\n",
    "    def __init__(self, x):\n",
    "        self.val = x\n",
    "        self.next = None\n",
    "\n",
    "class Solution:\n",
    "    def detectCycle(self, head: ListNode) -> ListNode:\n",
    "        visited = {}\n",
    "        node = head\n",
    "        pos = -1\n",
    "        while node is not None:\n",
    "            pos += 1\n",
    "            if node in visited:\n",
    "                return node\n",
    "            else:\n",
    "                visited[node] = pos\n",
    "            node = node.next\n",
    "        return None\n"
   ]
  },
  {
   "cell_type": "code",
   "execution_count": null,
   "metadata": {},
   "outputs": [],
   "source": [
    "class Solution:\n",
    "    def detectCycle(self, head: ListNode) -> ListNode:\n",
    "        \"\"\"Floyd's algorithm\"\"\"\n",
    "        \n",
    "        slow = head\n",
    "        fast = head\n",
    "        while True:\n",
    "            if fast is None or fast.next is None:\n",
    "                return None\n",
    "            slow = slow.next\n",
    "            fast = fast.next.next\n",
    "            if slow == fast:\n",
    "                break\n",
    "\n",
    "        fast = head\n",
    "        while fast != slow:\n",
    "            slow = slow.next\n",
    "            fast = fast.next\n",
    "        return fast\n"
   ]
  },
  {
   "cell_type": "code",
   "execution_count": null,
   "metadata": {},
   "outputs": [],
   "source": [
    "Solution."
   ]
  }
 ],
 "metadata": {
  "kernelspec": {
   "display_name": "Python 3",
   "language": "python",
   "name": "python3"
  },
  "language_info": {
   "codemirror_mode": {
    "name": "ipython",
    "version": 3
   },
   "file_extension": ".py",
   "mimetype": "text/x-python",
   "name": "python",
   "nbconvert_exporter": "python",
   "pygments_lexer": "ipython3",
   "version": "3.7.7"
  }
 },
 "nbformat": 4,
 "nbformat_minor": 4
}