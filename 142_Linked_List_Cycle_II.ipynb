{
 "cells": [
  {
   "cell_type": "code",
   "execution_count": 7,
   "metadata": {},
   "outputs": [],
   "source": [
    "# Definition for singly-linked list.\n",
    "class ListNode:\n",
    "    def __init__(self, x):\n",
    "        self.val = x\n",
    "        self.next = None\n",
    "\n",
    "class Solution:\n",
    "    def detectCycle(self, head: ListNode) -> ListNode:\n",
    "        visited = {}\n",
    "        node = head\n",
    "        pos = -1\n",
    "        while node is not None:\n",
    "            pos += 1\n",
    "            if node in visited:\n",
    "                return node\n",
    "            else:\n",
    "                visited[node] = pos\n",
    "            node = node.next\n",
    "        return None\n"
   ]
  },
  {
   "cell_type": "code",
   "execution_count": null,
   "metadata": {},
   "outputs": [],
   "source": [
    "class Solution:\n",
    "    def detectCycle(self, head: ListNode) -> ListNode:\n",
    "        \"\"\"Floyd's algorithm\"\"\"\n",
    "        \n",
    "        if head is None:\n",
    "            return None\n",
    "        \n",
    "        first = head\n",
    "        second = head\n",
    "        cycle_exist = False\n",
    "        while first is not None and second is not None:\n",
    "            first = first.next\n",
    "            if second.next is None:\n",
    "                return None\n",
    "            else:\n",
    "                second = second.next.next\n",
    "            if first == second:\n",
    "                cycle_exist = True\n",
    "                break\n",
    "        \n",
    "        if not cycle_exist:\n",
    "            return None\n",
    "        else:\n",
    "            first = head\n",
    "            while first != second:\n",
    "                first = first.next\n",
    "                second = second.next\n",
    "        \n",
    "            return first"
   ]
  }
 ],
 "metadata": {
  "kernelspec": {
   "display_name": "Python 3",
   "language": "python",
   "name": "python3"
  },
  "language_info": {
   "codemirror_mode": {
    "name": "ipython",
    "version": 3
   },
   "file_extension": ".py",
   "mimetype": "text/x-python",
   "name": "python",
   "nbconvert_exporter": "python",
   "pygments_lexer": "ipython3",
   "version": "3.7.7"
  }
 },
 "nbformat": 4,
 "nbformat_minor": 4
}
