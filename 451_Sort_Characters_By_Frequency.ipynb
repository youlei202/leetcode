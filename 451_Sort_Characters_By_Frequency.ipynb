{
 "metadata": {
  "language_info": {
   "codemirror_mode": {
    "name": "ipython",
    "version": 3
   },
   "file_extension": ".py",
   "mimetype": "text/x-python",
   "name": "python",
   "nbconvert_exporter": "python",
   "pygments_lexer": "ipython3",
   "version": "3.7.3-final"
  },
  "orig_nbformat": 2,
  "kernelspec": {
   "name": "python3",
   "display_name": "Python 3",
   "language": "python"
  }
 },
 "nbformat": 4,
 "nbformat_minor": 2,
 "cells": [
  {
   "cell_type": "code",
   "execution_count": 18,
   "metadata": {},
   "outputs": [],
   "source": [
    "class Solution:\n",
    "    def frequencySort(self, s: str) -> str:\n",
    "        char_dict = dict()\n",
    "        max_count = 0\n",
    "        for char in s:\n",
    "            char_dict[char] = 1 if char not in char_dict else char_dict[char]+1\n",
    "            if char_dict[char] > max_count:\n",
    "                max_count = char_dict[char]\n",
    "        \n",
    "        records = [ [] for i in range(max_count+1) ]\n",
    "        for key in char_dict.keys():\n",
    "            value = char_dict[key]\n",
    "            records[value].append(key)\n",
    "\n",
    "        output = ''\n",
    "        for char_list in reversed(records):\n",
    "            for char in char_list:\n",
    "                count = 0 \n",
    "                while count < char_dict[char]:\n",
    "                    output += char\n",
    "                    count += 1\n",
    "\n",
    "        return output\n",
    "        "
   ]
  },
  {
   "cell_type": "code",
   "execution_count": 19,
   "metadata": {},
   "outputs": [
    {
     "output_type": "execute_result",
     "data": {
      "text/plain": [
       "'cccaaa'"
      ]
     },
     "metadata": {},
     "execution_count": 19
    }
   ],
   "source": [
    "Solution().frequencySort(\"cccaaa\")"
   ]
  }
 ]
}