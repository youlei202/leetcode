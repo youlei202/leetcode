{
 "metadata": {
  "language_info": {
   "codemirror_mode": {
    "name": "ipython",
    "version": 3
   },
   "file_extension": ".py",
   "mimetype": "text/x-python",
   "name": "python",
   "nbconvert_exporter": "python",
   "pygments_lexer": "ipython3",
   "version": "3.7.3-final"
  },
  "orig_nbformat": 2,
  "kernelspec": {
   "name": "python3",
   "display_name": "Python 3",
   "language": "python"
  }
 },
 "nbformat": 4,
 "nbformat_minor": 2,
 "cells": [
  {
   "cell_type": "code",
   "execution_count": 1,
   "metadata": {},
   "outputs": [],
   "source": [
    "from typing import List"
   ]
  },
  {
   "cell_type": "code",
   "execution_count": 18,
   "metadata": {},
   "outputs": [],
   "source": [
    "class Solution:\n",
    "\n",
    "    def binarySearch(self, nums: List[int], target: int) -> int:\n",
    "        if len(nums)==0:\n",
    "            return -1\n",
    "\n",
    "        l = 0 \n",
    "        r = len(nums)-1\n",
    "\n",
    "        while l <= r:\n",
    "            mid = (l + r) // 2\n",
    "            print(mid)\n",
    "            if nums[mid] == target:\n",
    "                break\n",
    "            elif nums[mid] < target:\n",
    "                l = mid + 1\n",
    "            else:\n",
    "                r = mid - 1\n",
    "\n",
    "        if l > r:\n",
    "            return -1\n",
    "        else:\n",
    "            return mid\n",
    "\n",
    "    def searchRange(self, nums: List[int], target: int) -> List[int]:\n",
    "        k = self.binarySearch(nums, target)\n",
    "        if k < 0:\n",
    "            return [-1, -1]\n",
    "\n",
    "        l = 0 \n",
    "        r = k\n",
    "        while l <= r:\n",
    "            mid = (l + r) // 2\n",
    "            if nums[mid] == nums[k]:\n",
    "                if mid == 0 or nums[mid-1] < nums[k]:\n",
    "                    break\n",
    "                else:\n",
    "                    r = mid - 1\n",
    "            else:\n",
    "                l = mid + 1\n",
    "        if l > r:\n",
    "            range_left = k\n",
    "        else:\n",
    "            range_left = mid\n",
    "\n",
    "\n",
    "        l = k\n",
    "        r = len(nums)\n",
    "        while l <= r:\n",
    "            mid = ( l + r ) // 2\n",
    "            if nums[mid] == nums[k]:\n",
    "                if mid == len(nums)-1 or nums[mid+1] > nums[k]:\n",
    "                    break\n",
    "                else:\n",
    "                    l = mid + 1\n",
    "            else:\n",
    "                r = mid - 1\n",
    "\n",
    "        if l > r:\n",
    "            range_right = k\n",
    "        else:\n",
    "            range_right = mid\n",
    "\n",
    "        return [range_left, range_right]\n",
    "\n"
   ]
  }
 ]
}