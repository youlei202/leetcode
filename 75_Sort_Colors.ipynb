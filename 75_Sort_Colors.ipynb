{
 "cells": [
  {
   "cell_type": "code",
   "execution_count": 90,
   "metadata": {},
   "outputs": [],
   "source": [
    "from typing import List\n",
    "import numpy as np\n",
    "\n",
    "class Solution:\n",
    "    def sortColors(self, nums: List[int]) -> None:\n",
    "        \"\"\"\n",
    "        Do not return anything, modify nums in-place instead.\n",
    "        \"\"\"\n",
    "        \n",
    "        color_counter = [0, 0, 0]\n",
    "        for num in nums:\n",
    "            color_counter[num] += 1\n",
    "                    \n",
    "        pointer = 0\n",
    "        for i in range(len(nums)):\n",
    "            while color_counter[pointer]<=0: \n",
    "                pointer += 1\n",
    "            nums[i] = pointer\n",
    "            color_counter[pointer] -= 1\n",
    "\n",
    "                    \n",
    "        return nums"
   ]
  },
  {
   "cell_type": "code",
   "execution_count": 91,
   "metadata": {},
   "outputs": [],
   "source": [
    "solution = Solution()"
   ]
  },
  {
   "cell_type": "code",
   "execution_count": 95,
   "metadata": {},
   "outputs": [
    {
     "data": {
      "text/plain": [
       "[0, 2]"
      ]
     },
     "execution_count": 95,
     "metadata": {},
     "output_type": "execute_result"
    }
   ],
   "source": [
    "nums = [2,0]\n",
    "solution.sortColors(nums)"
   ]
  },
  {
   "cell_type": "code",
   "execution_count": 104,
   "metadata": {},
   "outputs": [],
   "source": [
    "from typing import List\n",
    "\n",
    "class Solution:\n",
    "    def sortColors(self, nums: List[int]) -> None:\n",
    "        \"\"\"\n",
    "        Do not return anything, modify nums in-place instead.\n",
    "        \"\"\"\n",
    "        \n",
    "        red, white, blue = 0, 0, len(nums)-1\n",
    "        \n",
    "        while white <= blue:\n",
    "            if nums[white] == 0:\n",
    "                nums[red], nums[white] = nums[white], nums[red]\n",
    "                red += 1\n",
    "                white += 1\n",
    "            elif nums[white] == 1:\n",
    "                white += 1\n",
    "            else:\n",
    "                nums[white], nums[blue] = nums[blue], nums[white]\n",
    "                blue -= 1\n",
    "                \n",
    "        return nums\n",
    "            \n",
    "            "
   ]
  },
  {
   "cell_type": "code",
   "execution_count": 103,
   "metadata": {},
   "outputs": [
    {
     "data": {
      "text/plain": [
       "[0, 1, 2, 2, 2]"
      ]
     },
     "execution_count": 103,
     "metadata": {},
     "output_type": "execute_result"
    }
   ],
   "source": [
    "solution = Solution()\n",
    "nums = [2,0,2,1,2]\n",
    "solution.sortColors(nums)"
   ]
  },
  {
   "cell_type": "code",
   "execution_count": null,
   "metadata": {},
   "outputs": [],
   "source": []
  }
 ],
 "metadata": {
  "kernelspec": {
   "display_name": "Python 3",
   "language": "python",
   "name": "python3"
  },
  "language_info": {
   "codemirror_mode": {
    "name": "ipython",
    "version": 3
   },
   "file_extension": ".py",
   "mimetype": "text/x-python",
   "name": "python",
   "nbconvert_exporter": "python",
   "pygments_lexer": "ipython3",
   "version": "3.7.7"
  }
 },
 "nbformat": 4,
 "nbformat_minor": 4
}
