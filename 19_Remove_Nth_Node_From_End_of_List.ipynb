{
 "metadata": {
  "language_info": {
   "codemirror_mode": {
    "name": "ipython",
    "version": 3
   },
   "file_extension": ".py",
   "mimetype": "text/x-python",
   "name": "python",
   "nbconvert_exporter": "python",
   "pygments_lexer": "ipython3",
   "version": "3.7.3-final"
  },
  "orig_nbformat": 2,
  "kernelspec": {
   "name": "python3",
   "display_name": "Python 3",
   "language": "python"
  }
 },
 "nbformat": 4,
 "nbformat_minor": 2,
 "cells": [
  {
   "cell_type": "code",
   "execution_count": 2,
   "metadata": {},
   "outputs": [],
   "source": [
    "# Definition for singly-linked list.\n",
    "class ListNode:\n",
    "    def __init__(self, val=0, next=None):\n",
    "        self.val = val\n",
    "        self.next = next\n",
    "\n",
    "class Solution:\n",
    "    def removeNthFromEnd(self, head: ListNode, n: int) -> ListNode:\n",
    "        if head is None:\n",
    "            return None\n",
    "        if n < 1:\n",
    "            return head\n",
    "\n",
    "        # Traverse the linkedlist, and save the pointer of each node\n",
    "        # into a dict\n",
    "        curr = head\n",
    "        node_list = []\n",
    "        node_idx = 0\n",
    "        while curr is not None:\n",
    "            if node_idx <= n+1:\n",
    "                node_list.append(curr)\n",
    "            else:\n",
    "                del node_list[0]\n",
    "                node_list.append(curr)\n",
    "            node_idx += 1\n",
    "            curr = curr.next\n",
    "\n",
    "        print(node_list, len(node_list))\n",
    "\n",
    "        # Find the node to be deleted\n",
    "        if len(node_list) < 2:\n",
    "            # There must be just 1 node in the linkedlist\n",
    "            head = None\n",
    "        else:\n",
    "            node_to_delete = node_list[1]\n",
    "            if node_to_delete == head:\n",
    "                # The node to be deleted is head\n",
    "                head = head.next\n",
    "            else:\n",
    "                node_prev = node_list[0]\n",
    "                node_prev.next = node_to_delete.next\n",
    "\n",
    "        return head\n",
    "        \n",
    "\n",
    "        "
   ]
  },
  {
   "cell_type": "code",
   "execution_count": null,
   "metadata": {},
   "outputs": [],
   "source": []
  }
 ]
}