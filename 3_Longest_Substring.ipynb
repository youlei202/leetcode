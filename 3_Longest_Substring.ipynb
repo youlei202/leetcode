{
 "cells": [
  {
   "cell_type": "code",
   "execution_count": 7,
   "metadata": {
    "collapsed": true
   },
   "outputs": [],
   "source": [
    "class Solution(object):\n",
    "    def lengthOfLongestSubstring(self, s):\n",
    "        \"\"\"\n",
    "        :type s: str\n",
    "        :rtype: int\n",
    "        \"\"\"\n",
    "        if len(s) == 0: return ''\n",
    "        \n",
    "        maxlen = 0\n",
    "        str_dic = {}\n",
    "        letter_dic = {}\n",
    "        i = j = 0\n",
    "        while j < len(s):\n",
    "            if s[j] in letter_dic:\n",
    "                next_i = letter_dic[s[j]] + 1 \n",
    "                letter_dic[s[j]] = next_i\n",
    "                for k in range(i, next_i):\n",
    "                    del letter_dic[s[k]]\n",
    "                i = next_i\n",
    "            else:\n",
    "                letter_dic[s[j]] = j\n",
    "                substr = s[i:j+1]\n",
    "                if len(substr) > maxlen: \n",
    "                    maxlen = len(substr)\n",
    "                    str_dic[maxlen] = substr\n",
    "                j += 1\n",
    "        \n",
    "        return str_dic[maxlen]"
   ]
  },
  {
   "cell_type": "code",
   "execution_count": 9,
   "metadata": {},
   "outputs": [
    {
     "name": "stdout",
     "output_type": "stream",
     "text": [
      "xcvzdfwe\n"
     ]
    }
   ],
   "source": [
    "sol = Solution()\n",
    "s = 'iiiweirjiwejnznbzxcvzdfwefff'\n",
    "print sol.lengthOfLongestSubstring(s)"
   ]
  },
  {
   "cell_type": "code",
   "execution_count": null,
   "metadata": {
    "collapsed": true
   },
   "outputs": [],
   "source": []
  }
 ],
 "metadata": {
  "kernelspec": {
   "display_name": "Python 2",
   "language": "python",
   "name": "python2"
  },
  "language_info": {
   "codemirror_mode": {
    "name": "ipython",
    "version": 2
   },
   "file_extension": ".py",
   "mimetype": "text/x-python",
   "name": "python",
   "nbconvert_exporter": "python",
   "pygments_lexer": "ipython2",
   "version": "2.7.14"
  }
 },
 "nbformat": 4,
 "nbformat_minor": 2
}
