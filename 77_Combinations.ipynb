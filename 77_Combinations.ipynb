{
 "metadata": {
  "language_info": {
   "codemirror_mode": {
    "name": "ipython",
    "version": 3
   },
   "file_extension": ".py",
   "mimetype": "text/x-python",
   "name": "python",
   "nbconvert_exporter": "python",
   "pygments_lexer": "ipython3",
   "version": "3.7.3-final"
  },
  "orig_nbformat": 2,
  "kernelspec": {
   "name": "python3",
   "display_name": "Python 3",
   "language": "python"
  }
 },
 "nbformat": 4,
 "nbformat_minor": 2,
 "cells": [
  {
   "cell_type": "code",
   "execution_count": 2,
   "metadata": {},
   "outputs": [],
   "source": [
    "from typing import List\n",
    "import itertools"
   ]
  },
  {
   "cell_type": "code",
   "execution_count": 6,
   "metadata": {},
   "outputs": [],
   "source": [
    "# class Solution:\n",
    "#     def combine(self, n: int, k: int) -> List[List[int]]:\n",
    "#         return list(itertools.combinations(range(n),k))"
   ]
  },
  {
   "cell_type": "code",
   "execution_count": 14,
   "metadata": {},
   "outputs": [],
   "source": [
    "class Solution:\n",
    "\n",
    "    def __init__(self):\n",
    "        self.comb = []\n",
    "        self.result = []\n",
    "\n",
    "    def backtracking(self, level, max_level, choices):\n",
    "\n",
    "        if level == max_level:\n",
    "            self.result.append(self.comb.copy())\n",
    "            return\n",
    "\n",
    "        for i in range(len(choices)):\n",
    "            choice = choices[i]\n",
    "            self.comb.append(choice)\n",
    "\n",
    "            choices_remain = choices[i+1:].copy()\n",
    "\n",
    "            self.backtracking(level+1, max_level, choices_remain)\n",
    "            self.comb.pop()\n",
    "        \n",
    "\n",
    "    def combine(self, n: int, k: int) -> List[List[int]]:\n",
    "        choices = list(range(1, n+1))\n",
    "        self.backtracking(level = 0, max_level=k, choices = choices)\n",
    "        return self.result\n",
    "        "
   ]
  },
  {
   "cell_type": "code",
   "execution_count": 15,
   "metadata": {},
   "outputs": [
    {
     "output_type": "execute_result",
     "data": {
      "text/plain": [
       "[[1, 2], [1, 3], [1, 4], [2, 3], [2, 4], [3, 4]]"
      ]
     },
     "metadata": {},
     "execution_count": 15
    }
   ],
   "source": [
    "Solution().combine(4, 2)"
   ]
  }
 ]
}