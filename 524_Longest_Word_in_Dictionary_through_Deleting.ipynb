{
 "metadata": {
  "language_info": {
   "codemirror_mode": {
    "name": "ipython",
    "version": 3
   },
   "file_extension": ".py",
   "mimetype": "text/x-python",
   "name": "python",
   "nbconvert_exporter": "python",
   "pygments_lexer": "ipython3",
   "version": "3.7.3-final"
  },
  "orig_nbformat": 2,
  "kernelspec": {
   "name": "python3",
   "display_name": "Python 3",
   "language": "python"
  }
 },
 "nbformat": 4,
 "nbformat_minor": 2,
 "cells": [
  {
   "cell_type": "code",
   "execution_count": 1,
   "metadata": {},
   "outputs": [],
   "source": [
    "from typing import List"
   ]
  },
  {
   "cell_type": "code",
   "execution_count": 59,
   "metadata": {},
   "outputs": [],
   "source": [
    "class Solution:\n",
    "    def findLongestWord(self, s: str, d: List[str]) -> str:\n",
    "        max_len = 0\n",
    "        max_word = \"\"\n",
    "        for word in d:\n",
    "            i = -1\n",
    "            j = 0\n",
    "            while j<len(word):\n",
    "                i += 1\n",
    "                while i<len(s) and s[i] != word[j]:\n",
    "                    i += 1\n",
    "                if i==len(s):\n",
    "                    break\n",
    "                elif j == len(word)-1:\n",
    "                    if len(word) > max_len or (len(word) == max_len and word <= max_word):\n",
    "                        max_word = word\n",
    "                        max_len = len(word)\n",
    "                j += 1\n",
    "\n",
    "        return max_word"
   ]
  },
  {
   "cell_type": "code",
   "execution_count": 62,
   "metadata": {},
   "outputs": [
    {
     "output_type": "execute_result",
     "data": {
      "text/plain": [
       "'ewaf'"
      ]
     },
     "metadata": {},
     "execution_count": 62
    }
   ],
   "source": [
    "s = \"aewfafwafjlwajflwajflwafj\"\n",
    "d = [\"apple\",\"ewaf\",\"awefawfwaf\",\"awef\",\"awefe\",\"ewafeffewafewf\"]\n",
    "Solution().findLongestWord(s,d)"
   ]
  },
  {
   "cell_type": "code",
   "execution_count": null,
   "metadata": {},
   "outputs": [],
   "source": []
  },
  {
   "cell_type": "code",
   "execution_count": null,
   "metadata": {},
   "outputs": [],
   "source": []
  }
 ]
}