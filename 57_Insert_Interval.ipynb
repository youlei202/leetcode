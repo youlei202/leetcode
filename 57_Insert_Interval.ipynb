{
 "cells": [
  {
   "cell_type": "code",
   "execution_count": 1,
   "metadata": {},
   "outputs": [],
   "source": [
    "from typing import List"
   ]
  },
  {
   "cell_type": "code",
   "execution_count": 67,
   "metadata": {},
   "outputs": [],
   "source": [
    "class Solution:\n",
    "    def insert(self, intervals: List[List[int]], newInterval: List[int]) -> List[List[int]]:\n",
    "        \n",
    "        if len(intervals) == 0:\n",
    "            return [newInterval]\n",
    "        \n",
    "        i = 0 \n",
    "        while i < len(intervals) and intervals[i][1] < newInterval[0]:\n",
    "            i += 1\n",
    "        # intervals < i is on the left-hand side of new interval without overlapping\n",
    "\n",
    "        j = len(intervals)-1\n",
    "        while j >= i and intervals[j][0] > newInterval[1]:\n",
    "            j -= 1\n",
    "        # intervals > j is on the right-hand side of new interval without overlapping \n",
    "        \n",
    "        if i == len(intervals) or intervals[i][0] > newInterval[1]:\n",
    "            # interval i is on the right-hand side of new interval without overlapping\n",
    "            intervals.insert(i, newInterval)\n",
    "        elif intervals[j][1] < newInterval[0]:\n",
    "                # interval j is on the left-hand side of new interval without overlapping\n",
    "                intervals.insert(j, newInterval)\n",
    "        else:\n",
    "            # both interval i and interval j overlapping with new interval  \n",
    "            intervals[i][0] = min(newInterval[0], intervals[i][0])\n",
    "            intervals[i][1] = max(newInterval[1], intervals[j][1])\n",
    "\n",
    "        k = 0\n",
    "        while k < j - i:\n",
    "            del intervals[i+1]\n",
    "            k += 1\n",
    "        return intervals\n",
    "                \n",
    "        \n",
    "        "
   ]
  },
  {
   "cell_type": "code",
   "execution_count": 68,
   "metadata": {},
   "outputs": [
    {
     "data": {
      "text/plain": [
       "[[0, 5]]"
      ]
     },
     "execution_count": 68,
     "metadata": {},
     "output_type": "execute_result"
    }
   ],
   "source": [
    "solution = Solution()\n",
    "intervals = [[1,5]]\n",
    "newInterval = [0,3]\n",
    "solution.insert(intervals, newInterval)"
   ]
  }
 ],
 "metadata": {
  "kernelspec": {
   "display_name": "Python 3",
   "language": "python",
   "name": "python3"
  },
  "language_info": {
   "codemirror_mode": {
    "name": "ipython",
    "version": 3
   },
   "file_extension": ".py",
   "mimetype": "text/x-python",
   "name": "python",
   "nbconvert_exporter": "python",
   "pygments_lexer": "ipython3",
   "version": "3.7.7"
  }
 },
 "nbformat": 4,
 "nbformat_minor": 4
}
