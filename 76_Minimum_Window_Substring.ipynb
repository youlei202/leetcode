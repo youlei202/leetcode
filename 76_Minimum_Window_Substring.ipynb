{
 "metadata": {
  "language_info": {
   "codemirror_mode": {
    "name": "ipython",
    "version": 3
   },
   "file_extension": ".py",
   "mimetype": "text/x-python",
   "name": "python",
   "nbconvert_exporter": "python",
   "pygments_lexer": "ipython3",
   "version": "3.7.3-final"
  },
  "orig_nbformat": 2,
  "kernelspec": {
   "name": "python3",
   "display_name": "Python 3",
   "language": "python"
  }
 },
 "nbformat": 4,
 "nbformat_minor": 2,
 "cells": [
  {
   "cell_type": "code",
   "execution_count": 179,
   "metadata": {},
   "outputs": [],
   "source": [
    "class Solution:\n",
    "    def minWindow(self, s: str, t: str) -> str:\n",
    "        if len(t) == 0:\n",
    "            return \"\"\n",
    "        \n",
    "        t_dict = {}\n",
    "        for i in range(len(t)):\n",
    "            t_dict[t[i]] = 1 if t[i] not in t_dict else t_dict[t[i]] + 1\n",
    "\n",
    "        l = 0\n",
    "        r = 0\n",
    "        cnt = 0\n",
    "        min_size = len(s)+1\n",
    "        min_l = 0\n",
    "        while r < len(s):\n",
    "            if s[r] in t_dict:\n",
    "                t_dict[s[r]] -= 1\n",
    "                if t_dict[s[r]]>=0:\n",
    "                    cnt += 1\n",
    "                while cnt == len(t):\n",
    "                    if r - l + 1 < min_size:\n",
    "                        min_l = l\n",
    "                        min_size = r - l + 1\n",
    "   \n",
    "                    if s[l] in t_dict:\n",
    "                        t_dict[s[l]] += 1\n",
    "                        if t_dict[s[l]]>0:\n",
    "                            cnt -= 1\n",
    "                    l += 1\n",
    "            r += 1\n",
    "            \n",
    "\n",
    "        return \"\" if min_size > len(s) else s[min_l:min_l+min_size]\n",
    "\n",
    "    \n",
    "\n",
    "\n"
   ]
  },
  {
   "cell_type": "code",
   "execution_count": 180,
   "metadata": {},
   "outputs": [
    {
     "output_type": "execute_result",
     "data": {
      "text/plain": [
       "'cwae'"
      ]
     },
     "metadata": {},
     "execution_count": 180
    }
   ],
   "source": [
    "s = \"cabwefgewcwaefgcf\"\n",
    "t = \"cae\"\n",
    "Solution().minWindow(s,t)"
   ]
  },
  {
   "cell_type": "code",
   "execution_count": null,
   "metadata": {},
   "outputs": [],
   "source": []
  }
 ]
}