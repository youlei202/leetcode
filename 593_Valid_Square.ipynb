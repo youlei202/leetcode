{
 "cells": [
  {
   "cell_type": "code",
   "execution_count": 24,
   "metadata": {},
   "outputs": [],
   "source": [
    "from math import sqrt\n",
    "class Solution(object):\n",
    "\n",
    "    def distance(self, p1, p2):\n",
    "        return sqrt((p1[0] - p2[0])**2 + (p1[1] - p2[1])**2)\n",
    "\n",
    "    def validSquare(self, p1, p2, p3, p4):\n",
    "        \"\"\"\n",
    "        :type p1: List[int]\n",
    "        :type p2: List[int]\n",
    "        :type p3: List[int]\n",
    "        :type p4: List[int]\n",
    "        :rtype: bool\n",
    "        \"\"\"\n",
    "        arr = list(sorted([p1,p2,p3,p4]))\n",
    "        sp1, sp2, sp3, sp4 = arr[0], arr[1], arr[3], arr[2]\n",
    "        print(sp1, sp2, sp3, sp4)\n",
    "\n",
    "        return self.distance(sp1, sp2) > 0 and \\\n",
    "               self.distance(sp1, sp2) == self.distance(sp2, sp3) \\\n",
    "            == self.distance(sp3, sp4) == self.distance(sp4, sp1) and \\\n",
    "               self.distance(sp1, sp3) == self.distance(sp2, sp4) \n",
    "\n",
    "\n",
    "\n",
    "        "
   ]
  },
  {
   "cell_type": "code",
   "execution_count": 23,
   "metadata": {},
   "outputs": [
    {
     "name": "stdout",
     "output_type": "stream",
     "text": [
      "[-1, 0] [0, -1] [1, 0] [0, 1]\n"
     ]
    },
    {
     "data": {
      "text/plain": [
       "True"
      ]
     },
     "execution_count": 23,
     "metadata": {},
     "output_type": "execute_result"
    }
   ],
   "source": [
    "Solution().validSquare([1,0],[-1,0],[0,1],[0,-1])"
   ]
  }
 ],
 "metadata": {
  "interpreter": {
   "hash": "dc6173651bae0fb962f53a6d951c572133740618f99b8bf0d46a4f552cd072b6"
  },
  "kernelspec": {
   "display_name": "Python 3.9.12 64-bit ('3.9.12')",
   "language": "python",
   "name": "python3"
  },
  "language_info": {
   "codemirror_mode": {
    "name": "ipython",
    "version": 3
   },
   "file_extension": ".py",
   "mimetype": "text/x-python",
   "name": "python",
   "nbconvert_exporter": "python",
   "pygments_lexer": "ipython3",
   "version": "3.9.12"
  },
  "orig_nbformat": 4
 },
 "nbformat": 4,
 "nbformat_minor": 2
}
