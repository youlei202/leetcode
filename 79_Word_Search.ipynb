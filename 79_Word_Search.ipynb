{
 "metadata": {
  "language_info": {
   "codemirror_mode": {
    "name": "ipython",
    "version": 3
   },
   "file_extension": ".py",
   "mimetype": "text/x-python",
   "name": "python",
   "nbconvert_exporter": "python",
   "pygments_lexer": "ipython3",
   "version": "3.7.3-final"
  },
  "orig_nbformat": 2,
  "kernelspec": {
   "name": "python3",
   "display_name": "Python 3",
   "language": "python"
  }
 },
 "nbformat": 4,
 "nbformat_minor": 2,
 "cells": [
  {
   "cell_type": "code",
   "execution_count": 1,
   "metadata": {},
   "outputs": [],
   "source": [
    "from typing import List"
   ]
  },
  {
   "cell_type": "code",
   "execution_count": 69,
   "metadata": {},
   "outputs": [],
   "source": [
    "class Solution:\n",
    "\n",
    "    def backtracking(self, board:List[List[str]], i: int, j: int, to_match: str, visited: set):\n",
    "        if (i,j) in visited:\n",
    "            return False\n",
    "\n",
    "        new_visited = visited.copy()\n",
    "        new_visited.add((i,j))\n",
    "\n",
    "        if len(to_match)==0:\n",
    "            return True            \n",
    "\n",
    "        if len(to_match)==1 and to_match[0] == board[i][j]:\n",
    "            return True\n",
    "\n",
    "        if to_match[0] != board[i][j]:\n",
    "            return False \n",
    "\n",
    "        to_match_next = to_match[1:]\n",
    "        found = False\n",
    "        if i > 0:\n",
    "            found = self.backtracking(board, i-1, j, to_match_next, new_visited)\n",
    "        if not found and i < len(board)-1:\n",
    "            found = self.backtracking(board, i+1, j, to_match_next, new_visited)\n",
    "        if not found and j > 0:\n",
    "            found = self.backtracking(board, i, j-1, to_match_next, new_visited)\n",
    "        if not found and j < len(board[0])-1:\n",
    "            found = self.backtracking(board, i, j+1, to_match_next, new_visited)\n",
    "\n",
    "        return found\n",
    "        \n",
    "\n",
    "    def exist(self, board: List[List[str]], word: str) -> bool:\n",
    "        for i in range(len(board)):\n",
    "            for j in range(len(board[0])):\n",
    "                if self.backtracking(board, i, j, word, set()):\n",
    "                    return True\n",
    "        return False\n",
    "        "
   ]
  },
  {
   "cell_type": "code",
   "execution_count": 70,
   "metadata": {},
   "outputs": [
    {
     "output_type": "execute_result",
     "data": {
      "text/plain": [
       "True"
      ]
     },
     "metadata": {},
     "execution_count": 70
    }
   ],
   "source": [
    "board = [[\"a\",\"b\"],[\"c\",\"d\"]]\n",
    "word = \"cdba\"\n",
    "Solution().exist(board, word)"
   ]
  }
 ]
}