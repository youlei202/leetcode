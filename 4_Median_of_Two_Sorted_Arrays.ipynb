{
 "metadata": {
  "language_info": {
   "codemirror_mode": {
    "name": "ipython",
    "version": 3
   },
   "file_extension": ".py",
   "mimetype": "text/x-python",
   "name": "python",
   "nbconvert_exporter": "python",
   "pygments_lexer": "ipython3",
   "version": "3.7.3-final"
  },
  "orig_nbformat": 2,
  "kernelspec": {
   "name": "python3",
   "display_name": "Python 3",
   "language": "python"
  }
 },
 "nbformat": 4,
 "nbformat_minor": 2,
 "cells": [
  {
   "cell_type": "code",
   "execution_count": 33,
   "metadata": {},
   "outputs": [],
   "source": [
    "from typing import List"
   ]
  },
  {
   "cell_type": "code",
   "execution_count": 112,
   "metadata": {},
   "outputs": [],
   "source": [
    "import numpy as np \n",
    "class Solution:\n",
    "    def findMedianSortedArrays(self, nums1: List[int], nums2: List[int]) -> float:\n",
    "\n",
    "        if len(nums1) + len(nums2) == 0:\n",
    "            return np.nan\n",
    "\n",
    "        if len(nums1) == 0:\n",
    "            return np.median(nums2)\n",
    "        if len(nums2) == 0:\n",
    "            return np.median(nums1)\n",
    "        \n",
    "\n",
    "        low = 0 \n",
    "        high = len(nums1)\n",
    "        partition_nums1 = ( low + high ) // 2\n",
    "        partition_nums2 = ( len(nums1) + len(nums2) + 1 ) // 2 - partition_nums1\n",
    "\n",
    "        partition1_left_val = nums1[partition_nums1-1] if partition_nums1-1 >= 0 else -np.inf\n",
    "        partition1_right_val = nums1[partition_nums1] if partition_nums1 < len(nums1) else np.inf\n",
    "        partition2_left_val = nums2[partition_nums2-1] if partition_nums2-1 >= 0 else -np.inf\n",
    "        partition2_right_val = nums2[partition_nums2] if partition_nums2 < len(nums2) else np.inf\n",
    "\n",
    "        while partition1_left_val > partition2_right_val or partition2_left_val > partition1_right_val:\n",
    "            if partition1_left_val > partition2_right_val:\n",
    "                high = high - 1\n",
    "            else:\n",
    "                low = low + 1\n",
    "            partition_nums1 = ( low + high ) // 2\n",
    "\n",
    "            partition_nums2 = ( len(nums1) + len(nums2) + 1 ) // 2 - partition_nums1\n",
    "\n",
    "            partition1_left_val = nums1[partition_nums1-1] if partition_nums1-1 >= 0 else -np.inf\n",
    "            partition1_right_val = nums1[partition_nums1] if partition_nums1 < len(nums1) else np.inf\n",
    "            partition2_left_val = nums2[partition_nums2-1] if partition_nums2-1 >= 0 else -np.inf\n",
    "            partition2_right_val = nums2[partition_nums2] if partition_nums2 < len(nums2) else np.inf\n",
    "\n",
    "        if ( len(nums1) + len(nums2) ) % 2 == 0:\n",
    "            return ( max(partition1_left_val, partition2_left_val) + min(partition1_right_val, partition2_right_val) ) / 2\n",
    "        else:\n",
    "            return max(partition1_left_val, partition2_left_val)\n",
    "\n",
    "        "
   ]
  },
  {
   "cell_type": "code",
   "execution_count": 115,
   "metadata": {},
   "outputs": [],
   "source": [
    "nums1 = [1,2,3,5,6]\n",
    "nums2 = [4,5]"
   ]
  },
  {
   "cell_type": "code",
   "execution_count": 116,
   "metadata": {},
   "outputs": [
    {
     "output_type": "execute_result",
     "data": {
      "text/plain": [
       "4"
      ]
     },
     "metadata": {},
     "execution_count": 116
    }
   ],
   "source": [
    "Solution().findMedianSortedArrays(nums1, nums2)"
   ]
  },
  {
   "cell_type": "code",
   "execution_count": null,
   "metadata": {},
   "outputs": [],
   "source": []
  }
 ]
}