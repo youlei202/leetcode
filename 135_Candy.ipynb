{
 "metadata": {
  "language_info": {
   "codemirror_mode": {
    "name": "ipython",
    "version": 3
   },
   "file_extension": ".py",
   "mimetype": "text/x-python",
   "name": "python",
   "nbconvert_exporter": "python",
   "pygments_lexer": "ipython3",
   "version": "3.7.3-final"
  },
  "orig_nbformat": 2,
  "kernelspec": {
   "name": "python3",
   "display_name": "Python 3",
   "language": "python"
  }
 },
 "nbformat": 4,
 "nbformat_minor": 2,
 "cells": [
  {
   "cell_type": "code",
   "execution_count": 1,
   "metadata": {},
   "outputs": [],
   "source": [
    "from typing import List"
   ]
  },
  {
   "cell_type": "code",
   "execution_count": 2,
   "metadata": {},
   "outputs": [],
   "source": [
    "import numpy as np\n",
    "class Solution:\n",
    "    def candy(self, ratings: List[int]) -> int:\n",
    "        i = 0\n",
    "        j = i\n",
    "        candy_list = np.zeros(len(ratings))\n",
    "        while i < len(ratings):\n",
    "            if i == 0 or ratings[i] <= ratings[i-1]:\n",
    "                candy_list[i] = 1\n",
    "            else:\n",
    "                candy_list[i] = candy_list[i-1]+1\n",
    "            i += 1\n",
    "\n",
    "        j = i\n",
    "        while j > 0:\n",
    "            if ratings[j-1] > ratings[j] and candy_list[j-1] <= candy_list[j]:\n",
    "                candy_list[j-1] = candy_list[j] + 1\n",
    "            j -= 1\n",
    "\n",
    "        return int(np.sum(candy_list))\n"
   ]
  },
  {
   "cell_type": "code",
   "execution_count": null,
   "metadata": {},
   "outputs": [],
   "source": [
    "Solution.candy()"
   ]
  }
 ]
}