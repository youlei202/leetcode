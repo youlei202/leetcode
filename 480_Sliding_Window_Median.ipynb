{
 "metadata": {
  "language_info": {
   "codemirror_mode": {
    "name": "ipython",
    "version": 3
   },
   "file_extension": ".py",
   "mimetype": "text/x-python",
   "name": "python",
   "nbconvert_exporter": "python",
   "pygments_lexer": "ipython3",
   "version": "3.7.7-final"
  },
  "orig_nbformat": 2,
  "kernelspec": {
   "name": "python3",
   "display_name": "Python 3.7.7 64-bit ('jupyterlab': conda)",
   "metadata": {
    "interpreter": {
     "hash": "a18a76d628cf6e0dbe981d2c2a4370e0d5a000afd243b507521121538dfb0428"
    }
   }
  }
 },
 "nbformat": 4,
 "nbformat_minor": 2,
 "cells": [
  {
   "cell_type": "code",
   "execution_count": 3,
   "metadata": {},
   "outputs": [],
   "source": [
    "from typing import List"
   ]
  },
  {
   "cell_type": "code",
   "execution_count": 4,
   "metadata": {},
   "outputs": [],
   "source": [
    "# numpy solution\n",
    "import numpy as np\n",
    "class Solution:\n",
    "    def medianSlidingWindow(self, nums: List[int], k: int) -> List[float]:\n",
    "        i, j = 0, k\n",
    "        median_list = []\n",
    "        while j <= len(nums):\n",
    "            median = np.median(nums[i:j])\n",
    "            median_list.append(median)\n",
    "            i += 1\n",
    "            j += 1\n",
    "        return median_list\n",
    "        "
   ]
  },
  {
   "cell_type": "code",
   "execution_count": 5,
   "metadata": {},
   "outputs": [],
   "source": [
    "nums = [1,3,-1,-3,5,3,6,7]\n",
    "k = 3"
   ]
  },
  {
   "cell_type": "code",
   "execution_count": 6,
   "metadata": {},
   "outputs": [
    {
     "output_type": "execute_result",
     "data": {
      "text/plain": [
       "[1.0, -1.0, -1.0, 3.0, 5.0, 6.0]"
      ]
     },
     "metadata": {},
     "execution_count": 6
    }
   ],
   "source": [
    "Solution().medianSlidingWindow(nums, k)"
   ]
  },
  {
   "cell_type": "code",
   "execution_count": 80,
   "metadata": {},
   "outputs": [],
   "source": [
    "class Solution:\n",
    "    def medianSlidingWindow(self, nums: List[int], k: int) -> List[float]:\n",
    "        i, j = 0, k\n",
    "        median_list = []\n",
    "        while j <= len(nums):\n",
    "            if i == 0:\n",
    "                window = sorted(nums[i:j])\n",
    "            else:\n",
    "                new_elem = nums[j-1]\n",
    "                window.remove(nums[i-1])\n",
    "                self._insertion(window, new_elem)\n",
    "            if k % 2 == 0:\n",
    "                median = (window[(len(window)-1)//2] + window[len(window)//2])/2\n",
    "            else:\n",
    "                median = window[len(window)//2]\n",
    "            median_list.append(median)\n",
    "            i += 1\n",
    "            j += 1\n",
    "\n",
    "        return median_list\n",
    "\n",
    "    def _insertion(self, window, new_elem):\n",
    "        for i, elem in enumerate(window):\n",
    "            if new_elem <= elem:\n",
    "                window.insert(i, new_elem)\n",
    "                return\n",
    "        window.append(new_elem)\n"
   ]
  },
  {
   "cell_type": "code",
   "execution_count": 81,
   "metadata": {},
   "outputs": [],
   "source": [
    "nums = [1,4,2,3]\n",
    "k = 4"
   ]
  },
  {
   "cell_type": "code",
   "execution_count": 82,
   "metadata": {},
   "outputs": [
    {
     "output_type": "execute_result",
     "data": {
      "text/plain": [
       "[2.5]"
      ]
     },
     "metadata": {},
     "execution_count": 82
    }
   ],
   "source": [
    "Solution().medianSlidingWindow(nums, k)"
   ]
  },
  {
   "cell_type": "code",
   "execution_count": null,
   "metadata": {},
   "outputs": [],
   "source": []
  }
 ]
}