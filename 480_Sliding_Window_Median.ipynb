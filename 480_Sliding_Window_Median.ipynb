{
 "metadata": {
  "language_info": {
   "codemirror_mode": {
    "name": "ipython",
    "version": 3
   },
   "file_extension": ".py",
   "mimetype": "text/x-python",
   "name": "python",
   "nbconvert_exporter": "python",
   "pygments_lexer": "ipython3",
   "version": "3.7.7-final"
  },
  "orig_nbformat": 2,
  "kernelspec": {
   "name": "python377jvsc74a57bd0a18a76d628cf6e0dbe981d2c2a4370e0d5a000afd243b507521121538dfb0428",
   "display_name": "Python 3.7.7 64-bit ('jupyterlab': conda)"
  }
 },
 "nbformat": 4,
 "nbformat_minor": 2,
 "cells": [
  {
   "cell_type": "code",
   "execution_count": 2,
   "metadata": {},
   "outputs": [],
   "source": [
    "from typing import List"
   ]
  },
  {
   "cell_type": "code",
   "execution_count": 37,
   "metadata": {},
   "outputs": [],
   "source": [
    "# numpy solution\n",
    "import numpy as np\n",
    "class Solution:\n",
    "    def medianSlidingWindow(self, nums: List[int], k: int) -> List[float]:\n",
    "        i, j = 0, k\n",
    "        median_list = []\n",
    "        while j <= len(nums):\n",
    "            median = np.median(nums[i:j])\n",
    "            median_list.append(median)\n",
    "            i += 1\n",
    "            j += 1\n",
    "        return median_list\n",
    "        "
   ]
  },
  {
   "cell_type": "code",
   "execution_count": 38,
   "metadata": {},
   "outputs": [],
   "source": [
    "nums = [1,3,-1,-3,5,3,6,7]\n",
    "k = 3"
   ]
  },
  {
   "cell_type": "code",
   "execution_count": 39,
   "metadata": {},
   "outputs": [
    {
     "output_type": "execute_result",
     "data": {
      "text/plain": [
       "[1.0, -1.0, -1.0, 3.0, 5.0, 6.0]"
      ]
     },
     "metadata": {},
     "execution_count": 39
    }
   ],
   "source": [
    "Solution().medianSlidingWindow(nums, k)"
   ]
  },
  {
   "cell_type": "code",
   "execution_count": 40,
   "metadata": {},
   "outputs": [],
   "source": [
    "class Solution:\n",
    "    def medianSlidingWindow(self, nums: List[int], k: int) -> List[float]:\n",
    "        i, j = 0, k\n",
    "        median_list = []\n",
    "        while j <= len(nums):\n",
    "            if i == 0:\n",
    "                window = sorted(nums[i:j])\n",
    "            else:\n",
    "                new_elem = nums[j-1]\n",
    "                window.remove(nums[i-1])\n",
    "                self._insertion(window, new_elem)\n",
    "            if k % 2 == 0:\n",
    "                median = (window[(len(window)-1)//2] + window[len(window)//2])/2\n",
    "            else:\n",
    "                median = window[len(window)//2]\n",
    "            median_list.append(median)\n",
    "            i += 1\n",
    "            j += 1\n",
    "\n",
    "        return median_list\n",
    "\n",
    "    def _insertion(self, window, new_elem):\n",
    "        for i, elem in enumerate(window):\n",
    "            if new_elem <= elem:\n",
    "                window.insert(i, new_elem)\n",
    "                return\n",
    "        window.append(new_elem)\n"
   ]
  },
  {
   "cell_type": "code",
   "execution_count": 41,
   "metadata": {},
   "outputs": [],
   "source": [
    "nums = [1,4,2,3]\n",
    "k = 4"
   ]
  },
  {
   "cell_type": "code",
   "execution_count": 42,
   "metadata": {},
   "outputs": [
    {
     "output_type": "execute_result",
     "data": {
      "text/plain": [
       "[2.5]"
      ]
     },
     "metadata": {},
     "execution_count": 42
    }
   ],
   "source": [
    "Solution().medianSlidingWindow(nums, k)"
   ]
  },
  {
   "cell_type": "code",
   "execution_count": 156,
   "metadata": {},
   "outputs": [],
   "source": [
    "class Solution:\n",
    "\n",
    "    def _insert_to_window(self, window, e):\n",
    "        i = 0\n",
    "        while i < len(window):\n",
    "            if window[i] >= e:\n",
    "                break\n",
    "            i += 1\n",
    "        window.insert(i, e)\n",
    "\n",
    "    def medianSlidingWindow(self, nums: List[int], k: int) -> List[float]:\n",
    "        solutions = []\n",
    "        i, j = 0, k\n",
    "        window = sorted(nums[i:j-1])\n",
    "        while j <= len(nums):\n",
    "            self._insert_to_window(window, nums[j-1])\n",
    "    \n",
    "            if k % 2 == 0:\n",
    "                median = (window[(len(window)-1)//2] + window[len(window)//2])/2\n",
    "            else:\n",
    "                median = window[len(window)//2]\n",
    "            solutions.append(median)\n",
    "\n",
    "            window.remove(nums[i])\n",
    "\n",
    "            i += 1\n",
    "            j += 1\n",
    "        \n",
    "        return solutions"
   ]
  },
  {
   "cell_type": "code",
   "execution_count": 157,
   "metadata": {},
   "outputs": [],
   "source": [
    "nums = [1,3,-1,-3,5,3,6,7]\n",
    "k = 3"
   ]
  },
  {
   "cell_type": "code",
   "execution_count": 158,
   "metadata": {},
   "outputs": [
    {
     "output_type": "execute_result",
     "data": {
      "text/plain": [
       "[1, -1, -1, 3, 5, 6]"
      ]
     },
     "metadata": {},
     "execution_count": 158
    }
   ],
   "source": [
    "Solution().medianSlidingWindow(nums, k)"
   ]
  },
  {
   "cell_type": "code",
   "execution_count": 65,
   "metadata": {},
   "outputs": [],
   "source": [
    "import bisect\n",
    "\n",
    "class Solution:\n",
    "    def medianSlidingWindow(self, nums: List[int], k: int) -> List[float]:\n",
    "\n",
    "        result = []\n",
    "        window = sorted(nums[:k])\n",
    "        i, j = 0, k\n",
    "        while j <= len(nums):\n",
    "\n",
    "            median = window[(k-1)//2]\n",
    "            if k % 2 == 0:\n",
    "                median = (median + window[(k-1)//2 + 1]) / 2.0\n",
    "            result.append(median)\n",
    "            window.remove(nums[i])\n",
    "            if j < len(nums):\n",
    "                bisect.insort(window, nums[j])\n",
    "            i += 1\n",
    "            j += 1\n",
    "\n",
    "        return result\n",
    "        \n",
    "        "
   ]
  },
  {
   "cell_type": "code",
   "execution_count": 66,
   "metadata": {},
   "outputs": [
    {
     "output_type": "stream",
     "name": "stdout",
     "text": [
      "[1, 2, 3, 4]\n"
     ]
    },
    {
     "output_type": "execute_result",
     "data": {
      "text/plain": [
       "[2.5]"
      ]
     },
     "metadata": {},
     "execution_count": 66
    }
   ],
   "source": [
    "nums = [1,4,2,3]\n",
    "k = 4\n",
    "Solution().medianSlidingWindow(nums, k)"
   ]
  },
  {
   "cell_type": "code",
   "execution_count": 91,
   "metadata": {},
   "outputs": [],
   "source": []
  },
  {
   "cell_type": "code",
   "execution_count": 248,
   "metadata": {},
   "outputs": [],
   "source": [
    "import heapq\n",
    "class Solution:\n",
    "    def medianSlidingWindow(self, nums: List[int], k: int) -> List[float]:\n",
    "        lo = [] # max heap\n",
    "        hi = [] # min heap\n",
    "        even = (k % 2 == 0)\n",
    "\n",
    "        result = []\n",
    "\n",
    "        for j in range(k):\n",
    "            heapq.heappush(lo, -nums[j])\n",
    "        for j in range(k//2):\n",
    "            heapq.heappush(hi, -heapq.heappop(lo))\n",
    "\n",
    "        i = k\n",
    "\n",
    "        # =0: balance\n",
    "        # >0: add->hi\n",
    "        # <0: add->lo \n",
    "        balance = 0 \n",
    "        \n",
    "        skip = {}\n",
    "        while True:\n",
    "\n",
    "            median = (-lo[0] + hi[0]) / 2.0 if even else -lo[0]\n",
    "            result.append(median)\n",
    "\n",
    "            if i >= len(nums):\n",
    "                break\n",
    "\n",
    "            in_num = nums[i]\n",
    "            out_num = nums[i-k]\n",
    "\n",
    "            skip[out_num] = skip.get(out_num, 0) + 1\n",
    "            balance = -1 if out_num <= -lo[0] else 1\n",
    "\n",
    "            if len(lo) > 0 and in_num <= -lo[0]:\n",
    "                heapq.heappush(lo, -in_num)\n",
    "                balance += 1\n",
    "            else:\n",
    "                heapq.heappush(hi, in_num)\n",
    "                balance -= 1\n",
    "\n",
    "            if balance < 0:\n",
    "                heapq.heappush(lo, -heapq.heappop(hi))\n",
    "                balance += 1\n",
    "\n",
    "            if balance > 0:\n",
    "                heapq.heappush(hi, -heapq.heappop(lo))\n",
    "                balance -= 1\n",
    "\n",
    "\n",
    "            while skip.get(-lo[0], 0) > 0:\n",
    "                e = -heapq.heappop(lo)\n",
    "                skip[e] -= 1\n",
    "\n",
    "            while len(hi) > 0 and skip.get(hi[0],0) > 0:\n",
    "                e = heapq.heappop(hi)\n",
    "                skip[e] -= 1\n",
    "\n",
    "            i += 1\n",
    "\n",
    "        return result\n",
    "\n",
    "\n",
    "\n"
   ]
  },
  {
   "cell_type": "code",
   "execution_count": 249,
   "metadata": {},
   "outputs": [
    {
     "output_type": "execute_result",
     "data": {
      "text/plain": [
       "[1, -1, -1, 3, 5, 6]"
      ]
     },
     "metadata": {},
     "execution_count": 249
    }
   ],
   "source": [
    "nums = [1,3,-1,-3,5,3,6,7]\n",
    "k = 3\n",
    "Solution().medianSlidingWindow(nums, k)"
   ]
  },
  {
   "cell_type": "code",
   "execution_count": null,
   "metadata": {},
   "outputs": [],
   "source": []
  },
  {
   "cell_type": "code",
   "execution_count": null,
   "metadata": {},
   "outputs": [],
   "source": []
  }
 ]
}