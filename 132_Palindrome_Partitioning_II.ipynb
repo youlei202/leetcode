{
 "metadata": {
  "language_info": {
   "codemirror_mode": {
    "name": "ipython",
    "version": 3
   },
   "file_extension": ".py",
   "mimetype": "text/x-python",
   "name": "python",
   "nbconvert_exporter": "python",
   "pygments_lexer": "ipython3",
   "version": "3.7.3-final"
  },
  "orig_nbformat": 2,
  "kernelspec": {
   "name": "python3",
   "display_name": "Python 3",
   "language": "python"
  }
 },
 "nbformat": 4,
 "nbformat_minor": 2,
 "cells": [
  {
   "cell_type": "code",
   "execution_count": 269,
   "metadata": {},
   "outputs": [],
   "source": [
    "class Solution:\n",
    "    def is_palindrome(self, s):\n",
    "        mid = len(s)//2\n",
    "        if len(s) % 2 == 0:\n",
    "            return s[0:mid] == s[mid:len(s)][::-1]\n",
    "        else:\n",
    "            return s[0:mid] == s[mid+1:len(s)][::-1]\n",
    "\n",
    "    def minCut(self, s: str) -> int:\n",
    "\n",
    "        D = [ i for i in range(len(s)) ]\n",
    "        for i in range(1, len(s)):\n",
    "            if self.is_palindrome(s[:i+1]):\n",
    "                D[i] = 0\n",
    "            else:\n",
    "                D[i] = min([D[j] + 1 for j in range(i) if self.is_palindrome(s[j+1:i+1])])\n",
    "        return D[len(s)-1]\n"
   ]
  },
  {
   "cell_type": "code",
   "execution_count": 270,
   "metadata": {},
   "outputs": [
    {
     "output_type": "execute_result",
     "data": {
      "text/plain": [
       "1"
      ]
     },
     "metadata": {},
     "execution_count": 270
    }
   ],
   "source": [
    "s = \"aab\"\n",
    "Solution().minCut(s)"
   ]
  },
  {
   "cell_type": "code",
   "execution_count": 268,
   "metadata": {},
   "outputs": [
    {
     "output_type": "execute_result",
     "data": {
      "text/plain": [
       "False"
      ]
     },
     "metadata": {},
     "execution_count": 268
    }
   ],
   "source": [
    "s = \"aab\"\n",
    "Solution().is_palindrome(s)"
   ]
  },
  {
   "cell_type": "code",
   "execution_count": null,
   "metadata": {},
   "outputs": [],
   "source": []
  },
  {
   "cell_type": "code",
   "execution_count": null,
   "metadata": {},
   "outputs": [],
   "source": []
  }
 ]
}