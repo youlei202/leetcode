{
 "metadata": {
  "language_info": {
   "codemirror_mode": {
    "name": "ipython",
    "version": 3
   },
   "file_extension": ".py",
   "mimetype": "text/x-python",
   "name": "python",
   "nbconvert_exporter": "python",
   "pygments_lexer": "ipython3",
   "version": "3.7.3-final"
  },
  "orig_nbformat": 2,
  "kernelspec": {
   "name": "python3",
   "display_name": "Python 3",
   "language": "python"
  }
 },
 "nbformat": 4,
 "nbformat_minor": 2,
 "cells": [
  {
   "cell_type": "code",
   "execution_count": 106,
   "metadata": {},
   "outputs": [],
   "source": [
    "class Solution:\n",
    "    def characterReplacement(self, s: str, k: int) -> int:\n",
    "        i = 0\n",
    "        j = 0\n",
    "        max_len = 0\n",
    "        char = s[j]\n",
    "        sc = list(s)\n",
    "        while i < len(s):\n",
    "            if sc[i] != char:\n",
    "                if k > 0:\n",
    "                    k -= 1\n",
    "                    sc[i] = char \n",
    "                else:\n",
    "                    while sc[j] != sc[i]:\n",
    "                        sc[j] = s[j] \n",
    "                        j += 1\n",
    "                    char = s[j]\n",
    "            if i - j + 1 > max_len:\n",
    "                max_len = i - j + 1\n",
    "            i += 1\n",
    "        return max_len\n"
   ]
  },
  {
   "cell_type": "code",
   "execution_count": 107,
   "metadata": {},
   "outputs": [
    {
     "output_type": "execute_result",
     "data": {
      "text/plain": [
       "3"
      ]
     },
     "metadata": {},
     "execution_count": 107
    }
   ],
   "source": [
    "s = \"ABBB\"\n",
    "k = 2\n",
    "Solution().characterReplacement(s,k)"
   ]
  },
  {
   "cell_type": "code",
   "execution_count": null,
   "metadata": {},
   "outputs": [],
   "source": []
  },
  {
   "cell_type": "code",
   "execution_count": null,
   "metadata": {},
   "outputs": [],
   "source": []
  }
 ]
}