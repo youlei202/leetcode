{
 "cells": [
  {
   "cell_type": "code",
   "execution_count": 24,
   "metadata": {
    "collapsed": true
   },
   "outputs": [],
   "source": [
    "# Definition for singly-linked list.\n",
    "class ListNode(object):\n",
    "    def __init__(self, x):\n",
    "        self.val = x\n",
    "        self.next = None\n",
    "\n",
    "class Solution(object):\n",
    "    \n",
    "    def __init__(self):\n",
    "        self.base = 10\n",
    "    \n",
    "    def addTwoNumbers(self, l1, l2):\n",
    "        \"\"\"\n",
    "        :type l1: ListNode\n",
    "        :type l2: ListNode\n",
    "        :rtype: ListNode\n",
    "        \"\"\"\n",
    "        p1 = l1\n",
    "        p2 = l2\n",
    "        carrier = 0\n",
    "        p3 = None\n",
    "        l3 = None\n",
    "        while p1 != None and p2 != None:\n",
    "            summ = p1.val + p2.val + carrier\n",
    "            num = summ % self.base\n",
    "            carrier = summ / self.base\n",
    "            if p3 == None:\n",
    "                l3 = p3 = ListNode(num)\n",
    "            else:\n",
    "                p3.next = ListNode(num)\n",
    "                p3 = p3.next\n",
    "            p1 = p1.next\n",
    "            p2 = p2.next\n",
    "            \n",
    "        while p1 != None:\n",
    "            summ = p1.val + carrier\n",
    "            num = summ % self.base\n",
    "            carrier = summ / self.base\n",
    "            if p3 == None:\n",
    "                l3 = p3 = ListNode(num)\n",
    "            else:\n",
    "                p3.next = ListNode(num)\n",
    "                p3 = p3.next\n",
    "            p1 = p1.next\n",
    "            \n",
    "        while p2 != None:\n",
    "            summ = p2.val + carrier\n",
    "            num = summ % self.base\n",
    "            carrier = summ / self.base\n",
    "            if p3 == None:\n",
    "                l3 = p3 = ListNode(num)\n",
    "            else:\n",
    "                p3.next = ListNode(num)\n",
    "                p3 = p3.next\n",
    "            p2 = p2.next\n",
    "            \n",
    "        if carrier > 0:\n",
    "            p3.next = ListNode(carrier)\n",
    "            p3 = p3.next\n",
    "                \n",
    "        return l3\n",
    "                \n",
    "\n",
    "            \n",
    "        \n",
    "        "
   ]
  },
  {
   "cell_type": "code",
   "execution_count": 20,
   "metadata": {},
   "outputs": [],
   "source": [
    "l1 = ListNode(2)\n",
    "l1.next = ListNode(4)\n",
    "l1.next.next = ListNode(3)\n",
    "l2 = ListNode(5)\n",
    "l2.next = ListNode(6)\n",
    "l2.next.next = ListNode(4)\n",
    "sol = Solution()\n",
    "l3 = sol.addTwoNumbers(l1,l2)"
   ]
  },
  {
   "cell_type": "code",
   "execution_count": 23,
   "metadata": {},
   "outputs": [
    {
     "data": {
      "text/plain": [
       "8"
      ]
     },
     "execution_count": 23,
     "metadata": {},
     "output_type": "execute_result"
    }
   ],
   "source": [
    "l3.next.next.val"
   ]
  },
  {
   "cell_type": "code",
   "execution_count": null,
   "metadata": {
    "collapsed": true
   },
   "outputs": [],
   "source": [
    "(2 -> 4 -> 3) + (5 -> 6 -> 4)"
   ]
  }
 ],
 "metadata": {
  "kernelspec": {
   "display_name": "Python 2",
   "language": "python",
   "name": "python2"
  },
  "language_info": {
   "codemirror_mode": {
    "name": "ipython",
    "version": 2
   },
   "file_extension": ".py",
   "mimetype": "text/x-python",
   "name": "python",
   "nbconvert_exporter": "python",
   "pygments_lexer": "ipython2",
   "version": "2.7.14"
  }
 },
 "nbformat": 4,
 "nbformat_minor": 2
}
