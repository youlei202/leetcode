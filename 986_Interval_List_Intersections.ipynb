{
 "cells": [
  {
   "cell_type": "code",
   "execution_count": 1,
   "metadata": {},
   "outputs": [],
   "source": [
    "from typing import List"
   ]
  },
  {
   "cell_type": "code",
   "execution_count": 13,
   "metadata": {},
   "outputs": [],
   "source": [
    "class Solution:\n",
    "    def intervalIntersection(self, A: List[List[int]], B: List[List[int]]) -> List[List[int]]:\n",
    "        \n",
    "        i = 0\n",
    "        j = 0\n",
    "        \n",
    "        output = []\n",
    "        \n",
    "        while i < len(A) and j < len(B):\n",
    "            a = A[i]\n",
    "            b = B[j]\n",
    "            \n",
    "            if a[1] < b[0]:\n",
    "                i += 1\n",
    "            elif b[1] < a[0]:\n",
    "                j += 1\n",
    "            else:\n",
    "                if a[0] == min(a[0], b[0]):\n",
    "                    left = b\n",
    "                else:\n",
    "                    left = a\n",
    "                if a[1] == max(a[1], b[1]):\n",
    "                    right = b\n",
    "                    move = 'B'\n",
    "                else:\n",
    "                    right = a\n",
    "                    move = 'A'\n",
    "                output.append([left[0],right[1]])\n",
    "            \n",
    "                if move == 'A':\n",
    "                    i += 1\n",
    "                else:\n",
    "                    j += 1\n",
    "        return output\n",
    "                \n",
    "                \n",
    "                \n",
    "                "
   ]
  },
  {
   "cell_type": "code",
   "execution_count": 14,
   "metadata": {},
   "outputs": [
    {
     "data": {
      "text/plain": [
       "[[1, 2], [5, 5], [8, 10], [15, 23], [24, 24], [25, 25]]"
      ]
     },
     "execution_count": 14,
     "metadata": {},
     "output_type": "execute_result"
    }
   ],
   "source": [
    "A = [[0,2],[5,10],[13,23],[24,25]]\n",
    "B = [[1,5],[8,12],[15,24],[25,26]]\n",
    "    \n",
    "Solution().intervalIntersection(A, B)"
   ]
  },
  {
   "cell_type": "code",
   "execution_count": null,
   "metadata": {},
   "outputs": [],
   "source": []
  }
 ],
 "metadata": {
  "kernelspec": {
   "display_name": "Python 3",
   "language": "python",
   "name": "python3"
  },
  "language_info": {
   "codemirror_mode": {
    "name": "ipython",
    "version": 3
   },
   "file_extension": ".py",
   "mimetype": "text/x-python",
   "name": "python",
   "nbconvert_exporter": "python",
   "pygments_lexer": "ipython3",
   "version": "3.7.7"
  }
 },
 "nbformat": 4,
 "nbformat_minor": 4
}
