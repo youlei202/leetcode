{
 "metadata": {
  "language_info": {
   "codemirror_mode": {
    "name": "ipython",
    "version": 3
   },
   "file_extension": ".py",
   "mimetype": "text/x-python",
   "name": "python",
   "nbconvert_exporter": "python",
   "pygments_lexer": "ipython3",
   "version": "3.7.3-final"
  },
  "orig_nbformat": 2,
  "kernelspec": {
   "name": "python3",
   "display_name": "Python 3",
   "language": "python"
  }
 },
 "nbformat": 4,
 "nbformat_minor": 2,
 "cells": [
  {
   "cell_type": "code",
   "execution_count": 2,
   "metadata": {},
   "outputs": [],
   "source": [
    "from typing import List"
   ]
  },
  {
   "cell_type": "code",
   "execution_count": 65,
   "metadata": {},
   "outputs": [],
   "source": [
    "class Solution:\n",
    "    def maxAreaOfIsland(self, grid: List[List[int]]) -> int:\n",
    "        visited = set()\n",
    "        len_1 = len(grid)\n",
    "        len_2 = len(grid[0])\n",
    "        max_locations = len_1 * len_2\n",
    "\n",
    "        i = 0\n",
    "        j = 0\n",
    "        max_area = 0\n",
    "        while len(visited) < max_locations:\n",
    "            if (i, j) in visited:\n",
    "                if j + 1 == len_2:\n",
    "                    j = 0\n",
    "                    i += 1\n",
    "                else:\n",
    "                    j += 1\n",
    "            else:\n",
    "                visited.add( (i,j) )\n",
    "                if grid[i][j] == 0:\n",
    "                    continue\n",
    "                else:\n",
    "                    area = 0\n",
    "                    to_explore = {(i,j)}\n",
    "                    while len(to_explore) > 0:\n",
    "                        x, y = to_explore.pop()\n",
    "                        visited.add( (x,y) )\n",
    "                        area += 1\n",
    "                        # explore left:\n",
    "                        if y - 1 >= 0 and grid[x][y-1]>0 and (x, y-1) not in visited:\n",
    "                            to_explore.add((x, y-1))\n",
    "                        # explore right:\n",
    "                        if y + 1 < len_2 and grid[x][y+1]>0 and (x, y+1) not in visited:\n",
    "                            to_explore.add((x, y+1))\n",
    "                        # explore up:\n",
    "                        if x - 1 >= 0 and grid[x-1][y]>0 and (x-1, y) not in visited:\n",
    "                            to_explore.add((x-1, y))\n",
    "                        # explore down:\n",
    "                        if x + 1 < len_1 and grid[x+1][y]>0 and (x+1, y) not in visited:\n",
    "                            to_explore.add((x+1, y))\n",
    "\n",
    "                    if area > max_area:\n",
    "                        max_area = area\n",
    "        return max_area\n",
    "                        \n",
    "\n",
    "\n",
    "\n"
   ]
  },
  {
   "cell_type": "code",
   "execution_count": 66,
   "metadata": {},
   "outputs": [],
   "source": [
    "grid = [\n",
    " [1,1,0,0,0],\n",
    " [1,1,0,0,0],\n",
    " [0,0,0,1,1],\n",
    " [0,0,0,1,1]\n",
    " ]"
   ]
  },
  {
   "cell_type": "code",
   "execution_count": 67,
   "metadata": {},
   "outputs": [
    {
     "output_type": "execute_result",
     "data": {
      "text/plain": [
       "4"
      ]
     },
     "metadata": {},
     "execution_count": 67
    }
   ],
   "source": [
    "Solution().maxAreaOfIsland(grid)"
   ]
  }
 ]
}