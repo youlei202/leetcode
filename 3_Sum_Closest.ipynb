{
 "metadata": {
  "language_info": {
   "codemirror_mode": {
    "name": "ipython",
    "version": 3
   },
   "file_extension": ".py",
   "mimetype": "text/x-python",
   "name": "python",
   "nbconvert_exporter": "python",
   "pygments_lexer": "ipython3",
   "version": "3.7.3-final"
  },
  "orig_nbformat": 2,
  "kernelspec": {
   "name": "python3",
   "display_name": "Python 3",
   "language": "python"
  }
 },
 "nbformat": 4,
 "nbformat_minor": 2,
 "cells": [
  {
   "cell_type": "code",
   "execution_count": 6,
   "metadata": {},
   "outputs": [],
   "source": [
    "from typing import List"
   ]
  },
  {
   "cell_type": "code",
   "execution_count": 33,
   "metadata": {},
   "outputs": [],
   "source": [
    "import numpy as np\n",
    "class Solution:\n",
    "    def threeSumClosest(self, nums: List[int], target: int) -> int:\n",
    "        nums = sorted(nums)\n",
    "        min_abs_error = np.inf\n",
    "        closest_sum = np.inf\n",
    "        for i in range(len(nums)-2):\n",
    "            j = i+1\n",
    "            k = len(nums)-1\n",
    "            target_i = target - nums[i]\n",
    "            while j < k:\n",
    "                error = nums[j] + nums[k] - target_i\n",
    "                if abs(error) < min_abs_error:\n",
    "                    min_abs_error = abs(error)\n",
    "                    closest_sum = nums[i] + nums[j] + nums[k]\n",
    "                if error==0:\n",
    "                    return nums[i] + nums[j] + nums[k]\n",
    "                elif error < 0:\n",
    "                    j += 1\n",
    "                else:\n",
    "                    k -= 1\n",
    "        return closest_sum\n",
    "\n",
    "\n",
    "\n"
   ]
  },
  {
   "cell_type": "code",
   "execution_count": 34,
   "metadata": {},
   "outputs": [
    {
     "output_type": "execute_result",
     "data": {
      "text/plain": [
       "2"
      ]
     },
     "metadata": {},
     "execution_count": 34
    }
   ],
   "source": [
    "nums = [-1,2,1,-4]\n",
    "target = 1\n",
    "Solution().threeSumClosest(nums, target)"
   ]
  },
  {
   "cell_type": "code",
   "execution_count": 21,
   "metadata": {},
   "outputs": [],
   "source": [
    "# Time Limit Exceeded Solution, Backtracking O(N^3)\n",
    "# import numpy as np\n",
    "# class Solution:\n",
    "\n",
    "#     def __init__(self):\n",
    "#         self.closest_sum = np.inf\n",
    "\n",
    "#     def backtracking(self, selected, to_select, max_level, target):\n",
    "#         if len(selected) == max_level:\n",
    "#             new_sum = sum(selected)\n",
    "#             if abs(new_sum - target) < abs(self.closest_sum - target):\n",
    "#                 self.closest_sum = new_sum\n",
    "#             return \n",
    "\n",
    "#         for i in range(len(to_select)):\n",
    "#             selected_new = selected.copy()\n",
    "#             selected_new.append(to_select[i])\n",
    "#             self.backtracking(selected_new, to_select[i+1:], max_level, target)\n",
    "        \n",
    "\n",
    "#     def threeSumClosest(self, nums: List[int], target: int) -> int:\n",
    "#         self.backtracking(selected=[], to_select=nums, max_level=3, target=target)\n",
    "#         return self.closest_sum\n",
    "        "
   ]
  },
  {
   "cell_type": "code",
   "execution_count": 25,
   "metadata": {},
   "outputs": [
    {
     "output_type": "error",
     "ename": "NameError",
     "evalue": "name 'min_error' is not defined",
     "traceback": [
      "\u001b[0;31m---------------------------------------------------------------------------\u001b[0m",
      "\u001b[0;31mNameError\u001b[0m                                 Traceback (most recent call last)",
      "\u001b[0;32m<ipython-input-25-e30f831c78c9>\u001b[0m in \u001b[0;36m<module>\u001b[0;34m\u001b[0m\n\u001b[1;32m      2\u001b[0m \u001b[0;34m\u001b[0m\u001b[0m\n\u001b[1;32m      3\u001b[0m \u001b[0mtarget\u001b[0m \u001b[0;34m=\u001b[0m \u001b[0;36m30\u001b[0m\u001b[0;34m\u001b[0m\u001b[0;34m\u001b[0m\u001b[0m\n\u001b[0;32m----> 4\u001b[0;31m \u001b[0mSolution\u001b[0m\u001b[0;34m(\u001b[0m\u001b[0;34m)\u001b[0m\u001b[0;34m.\u001b[0m\u001b[0mthreeSumClosest\u001b[0m\u001b[0;34m(\u001b[0m\u001b[0mnums\u001b[0m\u001b[0;34m,\u001b[0m \u001b[0mtarget\u001b[0m\u001b[0;34m)\u001b[0m\u001b[0;34m\u001b[0m\u001b[0;34m\u001b[0m\u001b[0m\n\u001b[0m",
      "\u001b[0;32m<ipython-input-24-2ea4481dc2cf>\u001b[0m in \u001b[0;36mthreeSumClosest\u001b[0;34m(self, nums, target)\u001b[0m\n\u001b[1;32m     11\u001b[0m             \u001b[0;32mwhile\u001b[0m \u001b[0mj\u001b[0m \u001b[0;34m<\u001b[0m \u001b[0mk\u001b[0m\u001b[0;34m:\u001b[0m\u001b[0;34m\u001b[0m\u001b[0;34m\u001b[0m\u001b[0m\n\u001b[1;32m     12\u001b[0m                 \u001b[0merror\u001b[0m \u001b[0;34m=\u001b[0m \u001b[0mnums\u001b[0m\u001b[0;34m[\u001b[0m\u001b[0mj\u001b[0m\u001b[0;34m]\u001b[0m \u001b[0;34m+\u001b[0m \u001b[0mnums\u001b[0m\u001b[0;34m[\u001b[0m\u001b[0mk\u001b[0m\u001b[0;34m]\u001b[0m \u001b[0;34m-\u001b[0m \u001b[0mtarget_i\u001b[0m\u001b[0;34m\u001b[0m\u001b[0;34m\u001b[0m\u001b[0m\n\u001b[0;32m---> 13\u001b[0;31m                 \u001b[0;32mif\u001b[0m \u001b[0mabs\u001b[0m\u001b[0;34m(\u001b[0m\u001b[0merror\u001b[0m\u001b[0;34m)\u001b[0m \u001b[0;34m<\u001b[0m \u001b[0mmin_error\u001b[0m\u001b[0;34m:\u001b[0m\u001b[0;34m\u001b[0m\u001b[0;34m\u001b[0m\u001b[0m\n\u001b[0m\u001b[1;32m     14\u001b[0m                     \u001b[0mmin_abs_error\u001b[0m \u001b[0;34m=\u001b[0m \u001b[0mabs\u001b[0m\u001b[0;34m(\u001b[0m\u001b[0merror\u001b[0m\u001b[0;34m)\u001b[0m\u001b[0;34m\u001b[0m\u001b[0;34m\u001b[0m\u001b[0m\n\u001b[1;32m     15\u001b[0m                     \u001b[0mclosest_sum\u001b[0m \u001b[0;34m=\u001b[0m \u001b[0mnums\u001b[0m\u001b[0;34m[\u001b[0m\u001b[0mi\u001b[0m\u001b[0;34m]\u001b[0m \u001b[0;34m+\u001b[0m \u001b[0mnums\u001b[0m\u001b[0;34m[\u001b[0m\u001b[0mj\u001b[0m\u001b[0;34m]\u001b[0m \u001b[0;34m+\u001b[0m \u001b[0mnums\u001b[0m\u001b[0;34m[\u001b[0m\u001b[0mk\u001b[0m\u001b[0;34m]\u001b[0m\u001b[0;34m\u001b[0m\u001b[0;34m\u001b[0m\u001b[0m\n",
      "\u001b[0;31mNameError\u001b[0m: name 'min_error' is not defined"
     ]
    }
   ],
   "source": [
    "nums = [-49,-84,68,-30,30,-77,-15,-39,-98,-78,-96,13,10,14,-55,48,-13,-61,81,-77,9,85,-88,-86,-96,49,4,-34,83,67,85,-7,12,10,92,71,5,57,-11,-10,-72,65,-54,58,79,-6,-5,-93,14,44,56,-72,35,-87,4,-20,89,-85,15,-45,33,89,31,-89,15,-17,-12,31,-17,61,47,-29,98,-10,22,38,73,60,-39,82,-47,-58,-21,73,-72,25,-46,88,34,54,-19,-78,-84,-94,-18,-9,-7,-56,88,99,61,-10,-43,-83,62,-67,95,-4,-14,100,5,29,7,73,-46,20,60,81,95,-13,-32,69,56,-4,-2,68,79,-53,-14,81,-63,100,-97,-59,-9,12,84,0,19,76,8,63,-39,-38,-7,45,-51,-60,91,4,22,-74,-64,77,45,38,-95,-72,82,-52,-27,26,-74,-92,-70,97,13,-96,-77,-26,57,6,30,50,-19,68]\n",
    "\n",
    "target = 30\n",
    "Solution().threeSumClosest(nums, target)"
   ]
  },
  {
   "cell_type": "code",
   "execution_count": null,
   "metadata": {},
   "outputs": [],
   "source": []
  }
 ]
}