{
 "metadata": {
  "language_info": {
   "codemirror_mode": {
    "name": "ipython",
    "version": 3
   },
   "file_extension": ".py",
   "mimetype": "text/x-python",
   "name": "python",
   "nbconvert_exporter": "python",
   "pygments_lexer": "ipython3",
   "version": "3.7.7-final"
  },
  "orig_nbformat": 2,
  "kernelspec": {
   "name": "python3",
   "display_name": "Python 3",
   "language": "python"
  }
 },
 "nbformat": 4,
 "nbformat_minor": 2,
 "cells": [
  {
   "cell_type": "code",
   "execution_count": 229,
   "metadata": {},
   "outputs": [],
   "source": [
    "from typing import List"
   ]
  },
  {
   "cell_type": "code",
   "execution_count": 267,
   "metadata": {},
   "outputs": [],
   "source": [
    "class Solution:\n",
    "\n",
    "    def __init__(self):\n",
    "        self.solution = []\n",
    "        self.result = []\n",
    "\n",
    "    def partition(self, s: str) -> List[List[str]]:\n",
    "\n",
    "        if len(s) <= 0:\n",
    "            self.result.append(self.solution.copy()) \n",
    "        \n",
    "        start = 0\n",
    "        end = len(s)-1\n",
    "        i = start \n",
    "        j = end \n",
    "        while end >= 0:\n",
    "            if i < j:\n",
    "                if s[i] == s[j]:\n",
    "                    i += 1\n",
    "                    j -= 1\n",
    "                    continue\n",
    "            else:\n",
    "                parlindrome = s[start:end+1]\n",
    "                self.solution.append(parlindrome)\n",
    "                self.partition(s[end+1:])\n",
    "                self.solution.pop()\n",
    "\n",
    "            end -= 1\n",
    "            i = start\n",
    "            j = end\n",
    "\n",
    "        return self.result\n"
   ]
  },
  {
   "cell_type": "code",
   "execution_count": 268,
   "metadata": {
    "tags": []
   },
   "outputs": [
    {
     "output_type": "execute_result",
     "data": {
      "text/plain": [
       "[['c', 'dd'], ['c', 'd', 'd']]"
      ]
     },
     "metadata": {},
     "execution_count": 268
    }
   ],
   "source": [
    "Solution().partition(\"cdd\")"
   ]
  },
  {
   "cell_type": "code",
   "execution_count": null,
   "metadata": {},
   "outputs": [],
   "source": []
  }
 ]
}