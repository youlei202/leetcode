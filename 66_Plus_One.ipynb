{
 "metadata": {
  "language_info": {
   "codemirror_mode": {
    "name": "ipython",
    "version": 3
   },
   "file_extension": ".py",
   "mimetype": "text/x-python",
   "name": "python",
   "nbconvert_exporter": "python",
   "pygments_lexer": "ipython3",
   "version": "3.7.7"
  },
  "orig_nbformat": 2,
  "kernelspec": {
   "name": "python3",
   "display_name": "Python 3.7.7 64-bit ('jupyterlab': conda)",
   "metadata": {
    "interpreter": {
     "hash": "a18a76d628cf6e0dbe981d2c2a4370e0d5a000afd243b507521121538dfb0428"
    }
   }
  }
 },
 "nbformat": 4,
 "nbformat_minor": 2,
 "cells": [
  {
   "cell_type": "code",
   "execution_count": 1,
   "metadata": {},
   "outputs": [],
   "source": [
    "from typing import List"
   ]
  },
  {
   "cell_type": "code",
   "execution_count": 31,
   "metadata": {},
   "outputs": [],
   "source": [
    "class Solution:\n",
    "    def plusOne(self, digits: List[int]) -> List[int]:\n",
    "\n",
    "        # Set carry to zero\n",
    "\n",
    "        # Traverse the digits array and\n",
    "        # try to add 1 to the current position.\n",
    "\n",
    "        # If the added result is large or equal than 10, \n",
    "        # put the carry to be 1, mod the added result by 10,\n",
    "        # and save to the current position\n",
    "        # Otherwise, set carry back to zero\n",
    "\n",
    "        carry = 0\n",
    "        for i in reversed(range(len(digits))):\n",
    "            d = digits[i]\n",
    "            r = d + carry + (1 if i==len(digits)-1 else 0)\n",
    "            if r >= 10:\n",
    "                carry = 1\n",
    "                r = r % 10\n",
    "            else:\n",
    "                carry = 0\n",
    "            digits[i] = r\n",
    "        \n",
    "        if carry > 0:\n",
    "            digits.insert(0, carry)\n",
    "        return digits\n",
    "\n"
   ]
  },
  {
   "cell_type": "code",
   "execution_count": 33,
   "metadata": {},
   "outputs": [
    {
     "output_type": "execute_result",
     "data": {
      "text/plain": [
       "[4, 3, 2, 2]"
      ]
     },
     "metadata": {},
     "execution_count": 33
    }
   ],
   "source": [
    "digits = [4,3,2,1]\n",
    "Solution().plusOne(digits)"
   ]
  },
  {
   "cell_type": "code",
   "execution_count": 18,
   "metadata": {},
   "outputs": [
    {
     "output_type": "execute_result",
     "data": {
      "text/plain": [
       "[1, 0]"
      ]
     },
     "metadata": {},
     "execution_count": 18
    }
   ],
   "source": [
    "list(reversed(range(len(digits))))"
   ]
  },
  {
   "cell_type": "code",
   "execution_count": null,
   "metadata": {},
   "outputs": [],
   "source": []
  }
 ]
}