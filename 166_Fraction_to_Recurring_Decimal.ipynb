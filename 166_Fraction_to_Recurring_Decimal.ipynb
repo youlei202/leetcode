{
 "cells": [
  {
   "cell_type": "code",
   "execution_count": 18,
   "metadata": {},
   "outputs": [],
   "source": [
    "class Solution(object):\n",
    "    def fractionToDecimal(self, numerator, denominator):\n",
    "        \"\"\"\n",
    "        :type numerator: int\n",
    "        :type denominator: int\n",
    "        :rtype: str\n",
    "        \"\"\"\n",
    "        if numerator == 0:\n",
    "            return \"0\"\n",
    "\n",
    "        sign = '-' if numerator * denominator < 0 else \"\"\n",
    "\n",
    "        numerator = abs(numerator)\n",
    "        denominator = abs(denominator)\n",
    "\n",
    "        string =  \"0.\" if numerator < denominator else \"\"\n",
    "\n",
    "        flag = False if numerator < denominator else True\n",
    "        residual = numerator\n",
    "        rec = {}\n",
    "\n",
    "        while True:\n",
    "            while residual < denominator:\n",
    "                if flag:\n",
    "                    string += '.'\n",
    "                    flag = False\n",
    "                rec[residual] = len(string)\n",
    "                residual *= 10\n",
    "                string += '0'\n",
    "            string = string[:-1]\n",
    "\n",
    "            quotient = residual // denominator\n",
    "            string += str(quotient)\n",
    "            residual = residual % denominator\n",
    "\n",
    "            if residual in rec or residual == 0:\n",
    "                break\n",
    "            else:\n",
    "                rec[residual] = len(string)\n",
    "        if residual in rec:\n",
    "            string = string[:rec[residual]] + '(' + string[rec[residual]:] + ')'\n",
    "\n",
    "        return sign + string\n",
    "\n",
    "            \n"
   ]
  },
  {
   "cell_type": "code",
   "execution_count": 19,
   "metadata": {},
   "outputs": [
    {
     "data": {
      "text/plain": [
       "'-6.25'"
      ]
     },
     "execution_count": 19,
     "metadata": {},
     "output_type": "execute_result"
    }
   ],
   "source": [
    "Solution().fractionToDecimal(-50,8)"
   ]
  },
  {
   "cell_type": "code",
   "execution_count": null,
   "metadata": {},
   "outputs": [],
   "source": []
  }
 ],
 "metadata": {
  "interpreter": {
   "hash": "dc6173651bae0fb962f53a6d951c572133740618f99b8bf0d46a4f552cd072b6"
  },
  "kernelspec": {
   "display_name": "Python 3.9.12 64-bit ('3.9.12')",
   "language": "python",
   "name": "python3"
  },
  "language_info": {
   "codemirror_mode": {
    "name": "ipython",
    "version": 3
   },
   "file_extension": ".py",
   "mimetype": "text/x-python",
   "name": "python",
   "nbconvert_exporter": "python",
   "pygments_lexer": "ipython3",
   "version": "3.9.12"
  },
  "orig_nbformat": 4
 },
 "nbformat": 4,
 "nbformat_minor": 2
}
