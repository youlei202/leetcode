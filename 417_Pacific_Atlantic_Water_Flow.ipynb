{
    "cells": [
        {
            "cell_type": "code",
            "execution_count": 4,
            "source": [
                "from typing import List\n",
                "\n",
                "class Solution:\n",
                "    \n",
                "    def out_of_boarder(self, x, y):\n",
                "        return x < 0 or y < 0 or x >= self.m or y >= self.n\n",
                "    \n",
                "    def dfs(self, can_reach, x, y) -> None:\n",
                "    \n",
                "        if can_reach[x][y]:\n",
                "            return\n",
                "        \n",
                "        can_reach[x][y] = True\n",
                "        for i in range(4):\n",
                "            nx = x + self.directions[i]\n",
                "            ny = y + self.directions[i+1]\n",
                "            if not self.out_of_boarder(nx,ny) and self.matrix[x][y] <= self.matrix[nx][ny]:\n",
                "                self.dfs(can_reach, nx, ny)\n",
                "        \n",
                "    def pacificAtlantic(self, matrix: List[List[int]]) -> List[List[int]]:\n",
                "        \n",
                "        if not matrix or len(matrix) < 1 or len(matrix[0]) < 1:\n",
                "            return []\n",
                "        self.m, self.n = len(matrix), len(matrix[0])\n",
                "        self.matrix = matrix\n",
                "        self.directions = [ -1 ,0 ,1 ,0, -1]\n",
                "        \n",
                "        can_reach_p = [[False for y in range(self.n)] for x in range(self.m)]\n",
                "        can_reach_a = [[False for y in range(self.n)] for x in range(self.m)]\n",
                "        \n",
                "        for x in range(self.m):\n",
                "            self.dfs(can_reach_p, x, 0)\n",
                "            self.dfs(can_reach_a, x, self.n-1)\n",
                "        for y in range(self.n):\n",
                "            self.dfs(can_reach_p, 0, y)\n",
                "            self.dfs(can_reach_a, self.m-1, y)\n",
                "            \n",
                "        result = []\n",
                "        for x in range(self.m):\n",
                "            for y in range(self.n):\n",
                "                if can_reach_p[x][y] and can_reach_a[x][y]:\n",
                "                    result.append([x,y])\n",
                "                    \n",
                "        return result\n",
                "        "
            ],
            "outputs": [],
            "metadata": {}
        },
        {
            "cell_type": "code",
            "execution_count": 5,
            "source": [
                "data = [[1,2,2,3,5],[3,2,3,4,4],[2,4,5,3,1],[6,7,1,4,5],[5,1,1,2,4]]\n",
                "Solution().pacificAtlantic(data)"
            ],
            "outputs": [
                {
                    "output_type": "execute_result",
                    "data": {
                        "text/plain": [
                            "[[0, 4], [1, 3], [1, 4], [2, 2], [3, 0], [3, 1], [4, 0]]"
                        ]
                    },
                    "metadata": {},
                    "execution_count": 5
                }
            ],
            "metadata": {}
        },
        {
            "cell_type": "code",
            "execution_count": null,
            "source": [],
            "outputs": [],
            "metadata": {}
        }
    ],
    "metadata": {
        "orig_nbformat": 4,
        "language_info": {
            "name": "python",
            "version": "3.7.7",
            "mimetype": "text/x-python",
            "codemirror_mode": {
                "name": "ipython",
                "version": 3
            },
            "pygments_lexer": "ipython3",
            "nbconvert_exporter": "python",
            "file_extension": ".py"
        },
        "kernelspec": {
            "name": "python3",
            "display_name": "Python 3.7.7 64-bit ('jupyterlab': conda)"
        },
        "interpreter": {
            "hash": "a18a76d628cf6e0dbe981d2c2a4370e0d5a000afd243b507521121538dfb0428"
        }
    },
    "nbformat": 4,
    "nbformat_minor": 2
}