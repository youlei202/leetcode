{
 "cells": [
  {
   "cell_type": "code",
   "execution_count": 13,
   "metadata": {
    "collapsed": true
   },
   "outputs": [],
   "source": [
    "class Solution(object):\n",
    "    def longestPalindrome(self, s):\n",
    "        \"\"\"\n",
    "        :type s: str\n",
    "        :rtype: str\n",
    "        \"\"\"\n",
    "        strlen = len(s)\n",
    "        maxstr = ''\n",
    "        for i in range(strlen):\n",
    "            l = r = i\n",
    "            while l>=0 and r<strlen:\n",
    "                if s[l] != s[r]: break\n",
    "                currs = s[l:r+1]\n",
    "                if len(currs)>len(maxstr):\n",
    "                    maxstr = currs\n",
    "                l -= 1\n",
    "                r += 1\n",
    "            if i > 0 and s[i-1] == s[i]:\n",
    "                l = i-1\n",
    "                r = i\n",
    "                while l>=0 and r<strlen:\n",
    "                    if s[l] != s[r]: break\n",
    "                    currs = s[l:r+1]\n",
    "                    if len(currs)>len(maxstr):\n",
    "                        maxstr = currs\n",
    "                    l -= 1\n",
    "                    r += 1\n",
    "            if i < strlen-1 and s[i+1] == s[i]:\n",
    "                l = i\n",
    "                r = i+1\n",
    "                while l>=0 and r<strlen:\n",
    "                    if s[l] != s[r]: break\n",
    "                    currs = s[l:r+1]\n",
    "                    if len(currs)>len(maxstr):\n",
    "                        maxstr = currs\n",
    "                    l -= 1\n",
    "                    r += 1\n",
    "        return maxstr"
   ]
  },
  {
   "cell_type": "code",
   "execution_count": 12,
   "metadata": {},
   "outputs": [
    {
     "data": {
      "text/plain": [
       "'bb'"
      ]
     },
     "execution_count": 12,
     "metadata": {},
     "output_type": "execute_result"
    }
   ],
   "source": [
    "s = \"cbbd\"\n",
    "Solution().longestPalindrome(s)"
   ]
  },
  {
   "cell_type": "code",
   "execution_count": null,
   "metadata": {
    "collapsed": true
   },
   "outputs": [],
   "source": []
  }
 ],
 "metadata": {
  "kernelspec": {
   "display_name": "Python 2",
   "language": "python",
   "name": "python2"
  },
  "language_info": {
   "codemirror_mode": {
    "name": "ipython",
    "version": 2
   },
   "file_extension": ".py",
   "mimetype": "text/x-python",
   "name": "python",
   "nbconvert_exporter": "python",
   "pygments_lexer": "ipython2",
   "version": "2.7.14"
  }
 },
 "nbformat": 4,
 "nbformat_minor": 2
}
