{
 "metadata": {
  "language_info": {
   "codemirror_mode": {
    "name": "ipython",
    "version": 3
   },
   "file_extension": ".py",
   "mimetype": "text/x-python",
   "name": "python",
   "nbconvert_exporter": "python",
   "pygments_lexer": "ipython3",
   "version": "3.7.7-final"
  },
  "orig_nbformat": 2,
  "kernelspec": {
   "name": "python3",
   "display_name": "Python 3.7.7 64-bit ('jupyterlab': conda)",
   "metadata": {
    "interpreter": {
     "hash": "a18a76d628cf6e0dbe981d2c2a4370e0d5a000afd243b507521121538dfb0428"
    }
   }
  }
 },
 "nbformat": 4,
 "nbformat_minor": 2,
 "cells": [
  {
   "cell_type": "code",
   "execution_count": 35,
   "metadata": {},
   "outputs": [],
   "source": [
    "class Solution:\n",
    "    def countPrimes(self, n: int) -> int:\n",
    "        primes = [ True for i in range(n) ]\n",
    "\n",
    "        i = 2\n",
    "        while i * i < n:\n",
    "            if primes[i]:\n",
    "                j = i\n",
    "                while j * i < n:\n",
    "                    primes[ i * j ] = False\n",
    "                    j += 1\n",
    "            i += 1\n",
    "\n",
    "        return sum(primes[2:])"
   ]
  },
  {
   "cell_type": "code",
   "execution_count": 39,
   "metadata": {},
   "outputs": [
    {
     "output_type": "execute_result",
     "data": {
      "text/plain": [
       "187674"
      ]
     },
     "metadata": {},
     "execution_count": 39
    }
   ],
   "source": [
    "Solution().countPrimes(2567892)"
   ]
  },
  {
   "cell_type": "code",
   "execution_count": null,
   "metadata": {},
   "outputs": [],
   "source": []
  }
 ]
}