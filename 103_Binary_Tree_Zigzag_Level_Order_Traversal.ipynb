{
 "cells": [
  {
   "cell_type": "code",
   "execution_count": 1,
   "metadata": {},
   "outputs": [],
   "source": [
    "from typing import List"
   ]
  },
  {
   "cell_type": "code",
   "execution_count": 30,
   "metadata": {},
   "outputs": [],
   "source": [
    "# Definition for a binary tree node.\n",
    "class TreeNode:\n",
    "    def __init__(self, val=0, left=None, right=None):\n",
    "        self.val = val\n",
    "        self.left = left\n",
    "        self.right = right\n",
    "class Solution:\n",
    "    def zigzagLevelOrder(self, root: TreeNode) -> List[List[int]]:\n",
    "        \n",
    "        output = []\n",
    "        if not root:\n",
    "            return output\n",
    "        \n",
    "        current_layer = [root]\n",
    "        next_layer = []\n",
    "        arr = []\n",
    "        go_right_first = False\n",
    "\n",
    "        while True:\n",
    "            if len(current_layer) == 0:\n",
    "                output.append(arr)\n",
    "                arr = []\n",
    "                go_right_first = not go_right_first\n",
    "                if len(next_layer) == 0:\n",
    "                    break\n",
    "                else:\n",
    "                    current_layer = list(reversed(next_layer))\n",
    "                    next_layer = []\n",
    "            else:\n",
    "                node = current_layer[0]\n",
    "                del current_layer[0]\n",
    "                arr.append(node.val)\n",
    "                children = []\n",
    "                \n",
    "                if node.left:\n",
    "                    children.append(node.left)\n",
    "                if node.right:\n",
    "                    children.append(node.right)\n",
    "                    \n",
    "                next_layer += children if not go_right_first else list(reversed(children))\n",
    "                \n",
    "        return output\n",
    "                "
   ]
  }
 ],
 "metadata": {
  "kernelspec": {
   "display_name": "Python 3",
   "language": "python",
   "name": "python3"
  },
  "language_info": {
   "codemirror_mode": {
    "name": "ipython",
    "version": 3
   },
   "file_extension": ".py",
   "mimetype": "text/x-python",
   "name": "python",
   "nbconvert_exporter": "python",
   "pygments_lexer": "ipython3",
   "version": "3.7.7"
  }
 },
 "nbformat": 4,
 "nbformat_minor": 4
}
