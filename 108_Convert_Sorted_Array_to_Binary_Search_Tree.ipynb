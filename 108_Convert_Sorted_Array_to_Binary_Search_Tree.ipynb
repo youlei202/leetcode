{
 "metadata": {
  "language_info": {
   "codemirror_mode": {
    "name": "ipython",
    "version": 3
   },
   "file_extension": ".py",
   "mimetype": "text/x-python",
   "name": "python",
   "nbconvert_exporter": "python",
   "pygments_lexer": "ipython3",
   "version": "3.7.7-final"
  },
  "orig_nbformat": 2,
  "kernelspec": {
   "name": "python3",
   "display_name": "Python 3.7.7 64-bit ('jupyterlab': conda)",
   "metadata": {
    "interpreter": {
     "hash": "a18a76d628cf6e0dbe981d2c2a4370e0d5a000afd243b507521121538dfb0428"
    }
   }
  }
 },
 "nbformat": 4,
 "nbformat_minor": 2,
 "cells": [
  {
   "cell_type": "code",
   "execution_count": 1,
   "metadata": {},
   "outputs": [],
   "source": [
    "from typing import List"
   ]
  },
  {
   "cell_type": "code",
   "execution_count": 11,
   "metadata": {},
   "outputs": [],
   "source": [
    "# Definition for a binary tree node.\n",
    "class TreeNode:\n",
    "    def __init__(self, val=0, left=None, right=None):\n",
    "        self.val = val\n",
    "        self.left = left\n",
    "        self.right = right\n",
    "\n",
    "\n",
    "class Solution:\n",
    "\n",
    "    def _createSubTree(self, nums, node):\n",
    "        if len(nums) == 0:\n",
    "            return \n",
    "\n",
    "        mid = len(nums)//2\n",
    "        val = nums[mid]\n",
    "        if val < node.val:\n",
    "            node.left = TreeNode(val)\n",
    "            self._createSubTree(nums[:mid], node.left)\n",
    "            self._createSubTree(nums[mid+1:], node.left)\n",
    "        else:\n",
    "            node.right = TreeNode(val)\n",
    "            self._createSubTree(nums[:mid], node.right)\n",
    "            self._createSubTree(nums[mid+1:], node.right)\n",
    "\n",
    "\n",
    "\n",
    "    def sortedArrayToBST(self, nums: List[int]) -> TreeNode:\n",
    "        mid = len(nums)//2\n",
    "        val = nums[mid]\n",
    "        root = TreeNode(val)\n",
    "        self._createSubTree(nums[:mid], root)\n",
    "        self._createSubTree(nums[mid+1:], root)\n",
    "\n",
    "        return root\n",
    "        "
   ]
  },
  {
   "cell_type": "code",
   "execution_count": 12,
   "metadata": {},
   "outputs": [
    {
     "output_type": "execute_result",
     "data": {
      "text/plain": [
       "<__main__.TreeNode at 0x7fb0086d52d0>"
      ]
     },
     "metadata": {},
     "execution_count": 12
    }
   ],
   "source": [
    "nums = [-10,-3,0,5,9]\n",
    "Solution().sortedArrayToBST(nums)"
   ]
  },
  {
   "cell_type": "code",
   "execution_count": null,
   "metadata": {},
   "outputs": [],
   "source": []
  }
 ]
}