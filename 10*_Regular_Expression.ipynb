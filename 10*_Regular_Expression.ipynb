{
 "cells": [
  {
   "cell_type": "code",
   "execution_count": 61,
   "metadata": {},
   "outputs": [],
   "source": [
    "from typing import List"
   ]
  },
  {
   "cell_type": "code",
   "execution_count": 118,
   "metadata": {
    "collapsed": true
   },
   "outputs": [],
   "source": [
    "class Solution:\n",
    "\n",
    "    def recursiveMatch(self, s: str, stack: List[str], preceding_char: str):\n",
    "        # Put the characters in the pattern to a stack\n",
    "\n",
    "        # Try to pass the string awith the stack\n",
    "        i = 0\n",
    "        while i < len(s):\n",
    "            if len(stack) == 0:\n",
    "                return False\n",
    "\n",
    "            p_char = stack[-1]\n",
    "            if p_char != '*':\n",
    "                stack.pop()\n",
    "                preceding_char = p_char\n",
    "                if p_char in [s[i], '.']:\n",
    "                    if p_char == '.' and len(stack)>0 and stack[-1] == '*':\n",
    "                        return True\n",
    "                    # print(s[i], 'matched with', p_char)\n",
    "                    i += 1\n",
    "                elif len(stack) == 0:\n",
    "                    break\n",
    "                elif stack[-1] != '*':\n",
    "                    break\n",
    "                else:\n",
    "                    next_stack = stack.copy()\n",
    "                    while len(next_stack) >0 and next_stack[-1] == '*':\n",
    "                        next_stack.pop()\n",
    "                    return self.recursiveMatch(s[i:], next_stack, preceding_char)\n",
    "            else:\n",
    "                # Find preceding element\n",
    "                if preceding_char == None:\n",
    "                    return False\n",
    "                # Check if '*' matches with current char in the string\n",
    "                if preceding_char not in [s[i], '.']:\n",
    "                    # If not match, try to pop up all '*' in the stack\n",
    "                    while len(stack) > 0 and stack[-1] == '*':\n",
    "                        stack.pop()\n",
    "                else:\n",
    "                    # If matched, then we need to consider whether to pop \n",
    "                    # the * now or later\n",
    "\n",
    "                    # Case 1: Do not pop * at the current moment, match it with p_char\n",
    "                    next_stack = stack.copy()\n",
    "                    # print(s[i], 'matched with', '*' + '('+preceding_char+')')\n",
    "                    matched = self.recursiveMatch(s[i+1:], next_stack, preceding_char)\n",
    "                    # Case 2: Pop * at the current moment, match it with p_char\n",
    "                    if not matched:\n",
    "                        next_stack = stack.copy()\n",
    "                        next_stack.pop()\n",
    "                        matched = self.recursiveMatch(s[i+1:], next_stack, preceding_char)\n",
    "                        # print(s[i], 'matched with', '*' + '('+preceding_char+')', '*', 'popped')\n",
    "                    # Case 3: Pop * at the current moment and do not match it with p_char\n",
    "                    if not matched:\n",
    "                        next_stack = stack.copy()\n",
    "                        next_stack.pop()\n",
    "                        matched = self.recursiveMatch(s[i:], next_stack, preceding_char)\n",
    "                        # print(s[i], '*', 'popped')\n",
    "\n",
    "                    if not matched:\n",
    "                        return False\n",
    "                    else:\n",
    "                        return True\n",
    "\n",
    "        # Failed to pass the string: False\n",
    "        if i != len(s):\n",
    "            return False\n",
    "\n",
    "        # Stack cannot be cleaned: False\n",
    "        while (len(stack) > 0 and stack[-1]=='*') or (len(stack) > 1 and stack[-2]=='*'):\n",
    "            stack.pop()\n",
    "        if len(stack) > 0:\n",
    "            return False\n",
    "\n",
    "        return True\n",
    "\n",
    "\n",
    "    def isMatch(self, s: str, p: str) -> bool:\n",
    "        stack = list(reversed(list(p)))\n",
    "        return self.recursiveMatch(s, stack, None)\n",
    "                \n",
    "\n",
    "\n",
    "\n"
   ]
  },
  {
   "cell_type": "code",
   "execution_count": 119,
   "metadata": {},
   "outputs": [
    {
     "output_type": "execute_result",
     "data": {
      "text/plain": [
       "True"
      ]
     },
     "metadata": {},
     "execution_count": 119
    }
   ],
   "source": [
    "s = \"bbbba\"\n",
    "p = \".*a*a\"\n",
    "Solution().isMatch(s,p)"
   ]
  },
  {
   "cell_type": "code",
   "execution_count": null,
   "metadata": {},
   "outputs": [],
   "source": []
  }
 ],
 "metadata": {
  "kernelspec": {
   "name": "python3",
   "display_name": "Python 3.8.5 64-bit",
   "metadata": {
    "interpreter": {
     "hash": "aee8b7b246df8f9039afb4144a1f6fd8d2ca17a180786b69acc140d282b71a49"
    }
   }
  },
  "language_info": {
   "codemirror_mode": {
    "name": "ipython",
    "version": 2
   },
   "file_extension": ".py",
   "mimetype": "text/x-python",
   "name": "python",
   "nbconvert_exporter": "python",
   "pygments_lexer": "ipython2",
   "version": "3.8.5-final"
  }
 },
 "nbformat": 4,
 "nbformat_minor": 2
}