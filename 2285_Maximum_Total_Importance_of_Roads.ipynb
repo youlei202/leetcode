{
 "cells": [
  {
   "cell_type": "code",
   "execution_count": 35,
   "metadata": {},
   "outputs": [],
   "source": [
    "class Solution(object):\n",
    "    def maximumImportance(self, n, roads):\n",
    "        \"\"\"\n",
    "        :type n: int\n",
    "        :type roads: List[List[int]]\n",
    "        :rtype: int\n",
    "        \"\"\"\n",
    "        degree = {}\n",
    "        for a, b in roads:\n",
    "            degree[a] = degree.get(a, 0) + 1\n",
    "            degree[b] = degree.get(b, 0) + 1\n",
    "\n",
    "        sorted_keys = sorted(degree, key=degree.get, reverse=True)\n",
    "\n",
    "        total = 0\n",
    "        for k in sorted_keys:\n",
    "            total += degree[k] * n\n",
    "            n -= 1\n",
    "\n",
    "        return total\n",
    "\n",
    "\n"
   ]
  },
  {
   "cell_type": "code",
   "execution_count": 36,
   "metadata": {},
   "outputs": [
    {
     "data": {
      "text/plain": [
       "43"
      ]
     },
     "execution_count": 36,
     "metadata": {},
     "output_type": "execute_result"
    }
   ],
   "source": [
    "Solution().maximumImportance(5, [[0,1],[1,2],[2,3],[0,2],[1,3],[2,4]])"
   ]
  }
 ],
 "metadata": {
  "interpreter": {
   "hash": "dc6173651bae0fb962f53a6d951c572133740618f99b8bf0d46a4f552cd072b6"
  },
  "kernelspec": {
   "display_name": "Python 3.9.12 64-bit ('3.9.12')",
   "language": "python",
   "name": "python3"
  },
  "language_info": {
   "codemirror_mode": {
    "name": "ipython",
    "version": 3
   },
   "file_extension": ".py",
   "mimetype": "text/x-python",
   "name": "python",
   "nbconvert_exporter": "python",
   "pygments_lexer": "ipython3",
   "version": "3.9.12"
  },
  "orig_nbformat": 4
 },
 "nbformat": 4,
 "nbformat_minor": 2
}
