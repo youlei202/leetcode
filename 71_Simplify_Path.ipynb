{
 "metadata": {
  "language_info": {
   "codemirror_mode": {
    "name": "ipython",
    "version": 3
   },
   "file_extension": ".py",
   "mimetype": "text/x-python",
   "name": "python",
   "nbconvert_exporter": "python",
   "pygments_lexer": "ipython3",
   "version": "3.7.3-final"
  },
  "orig_nbformat": 2,
  "kernelspec": {
   "name": "python3",
   "display_name": "Python 3",
   "language": "python"
  }
 },
 "nbformat": 4,
 "nbformat_minor": 2,
 "cells": [
  {
   "cell_type": "code",
   "execution_count": 92,
   "metadata": {},
   "outputs": [],
   "source": [
    "class Solution:\n",
    "    def simplifyPath(self, path: str) -> str:\n",
    "        op_list = []\n",
    "        i = 1\n",
    "        while i < len(path):\n",
    "            if path[i] == '.':\n",
    "                if i < len(path)-1 and path[i+1] == '.':\n",
    "                    if i < len(path)-2 and path[i+2] != '/':\n",
    "                        folder = \"\"\n",
    "                        while i < len(path) and path[i] != '/':\n",
    "                            folder += path[i]\n",
    "                            i += 1\n",
    "                        op_list.append(folder)\n",
    "                    else:\n",
    "                        op_list.append('..')\n",
    "                        i += 2\n",
    "                elif i < len(path)-1 and path[i+1] != '/':\n",
    "                        folder = \"\"\n",
    "                        while i < len(path) and path[i] != '/':\n",
    "                            folder += path[i]\n",
    "                            i += 1\n",
    "                        op_list.append(folder)\n",
    "                else:\n",
    "                    op_list.append('.')\n",
    "                    i += 1\n",
    "            elif path[i] == '/':\n",
    "                i += 1\n",
    "            else:\n",
    "                folder = \"\"\n",
    "                while i < len(path) and path[i] not in ['/', '.']:\n",
    "                    folder += path[i]\n",
    "                    i += 1\n",
    "                op_list.append(folder)\n",
    "\n",
    "        simplified = []\n",
    "        for op in op_list:\n",
    "            if op == '..':\n",
    "                if len(simplified) > 0:\n",
    "                    simplified.pop()\n",
    "            elif op == '.':\n",
    "                continue\n",
    "            else:\n",
    "                simplified.append(op)\n",
    "        \n",
    "        return '/' + '/'.join(simplified)\n",
    "        \n",
    "\n",
    "\n",
    "\n",
    "                \n",
    "            \n",
    "\n",
    "        "
   ]
  },
  {
   "cell_type": "code",
   "execution_count": 93,
   "metadata": {
    "tags": []
   },
   "outputs": [
    {
     "output_type": "execute_result",
     "data": {
      "text/plain": [
       "'/.hidden'"
      ]
     },
     "metadata": {},
     "execution_count": 93
    }
   ],
   "source": [
    "Solution().simplifyPath(\"/.hidden\")"
   ]
  }
 ]
}