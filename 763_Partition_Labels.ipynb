{
 "metadata": {
  "language_info": {
   "codemirror_mode": {
    "name": "ipython",
    "version": 3
   },
   "file_extension": ".py",
   "mimetype": "text/x-python",
   "name": "python",
   "nbconvert_exporter": "python",
   "pygments_lexer": "ipython3",
   "version": "3.7.3-final"
  },
  "orig_nbformat": 2,
  "kernelspec": {
   "name": "python3",
   "display_name": "Python 3",
   "language": "python"
  }
 },
 "nbformat": 4,
 "nbformat_minor": 2,
 "cells": [
  {
   "cell_type": "code",
   "execution_count": 1,
   "metadata": {},
   "outputs": [],
   "source": [
    "from typing import List"
   ]
  },
  {
   "cell_type": "code",
   "execution_count": 21,
   "metadata": {},
   "outputs": [],
   "source": [
    "class Solution:\n",
    "    def partitionLabels(self, S: str) -> List[int]:\n",
    "        if len(S) == 0:\n",
    "            return []\n",
    "\n",
    "        letter_dict = {}\n",
    "        for i in range(len(S)):\n",
    "            if S[i] not in letter_dict:\n",
    "                letter_dict[S[i]] = [i, i]\n",
    "            else:\n",
    "                letter_dict[S[i]][1] = i\n",
    "        \n",
    "        result = []\n",
    "        i = 0\n",
    "        while i < len(S):\n",
    "            j = letter_dict[S[i]][1]\n",
    "            k = i\n",
    "            while k <= j:\n",
    "                j = max(letter_dict[S[k]][1], j)\n",
    "                k += 1\n",
    "\n",
    "            result.append(S[i:j+1])\n",
    "            i = j+1\n",
    "\n",
    "        return list(map(lambda x: len(x), result))"
   ]
  },
  {
   "cell_type": "code",
   "execution_count": 22,
   "metadata": {},
   "outputs": [
    {
     "output_type": "execute_result",
     "data": {
      "text/plain": [
       "[1, 9]"
      ]
     },
     "metadata": {},
     "execution_count": 22
    }
   ],
   "source": [
    "S = \"caedbdedda\"\n",
    "Solution().partitionLabels(S)"
   ]
  },
  {
   "cell_type": "code",
   "execution_count": null,
   "metadata": {},
   "outputs": [],
   "source": []
  },
  {
   "cell_type": "code",
   "execution_count": null,
   "metadata": {},
   "outputs": [],
   "source": []
  }
 ]
}