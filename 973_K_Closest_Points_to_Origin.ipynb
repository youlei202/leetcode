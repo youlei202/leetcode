{
 "metadata": {
  "language_info": {
   "codemirror_mode": {
    "name": "ipython",
    "version": 3
   },
   "file_extension": ".py",
   "mimetype": "text/x-python",
   "name": "python",
   "nbconvert_exporter": "python",
   "pygments_lexer": "ipython3",
   "version": "3.7.7-final"
  },
  "orig_nbformat": 2,
  "kernelspec": {
   "name": "python3",
   "display_name": "Python 3.7.7 64-bit ('jupyterlab': conda)",
   "metadata": {
    "interpreter": {
     "hash": "a18a76d628cf6e0dbe981d2c2a4370e0d5a000afd243b507521121538dfb0428"
    }
   }
  }
 },
 "nbformat": 4,
 "nbformat_minor": 2,
 "cells": [
  {
   "cell_type": "code",
   "execution_count": 5,
   "metadata": {},
   "outputs": [],
   "source": [
    "from typing import List"
   ]
  },
  {
   "cell_type": "code",
   "execution_count": 113,
   "metadata": {},
   "outputs": [],
   "source": [
    "# Time Limit Exceeded\n",
    "import math\n",
    "class Solution:\n",
    "    def kClosest(self, points: List[List[int]], K: int) -> List[List[int]]:\n",
    "        distances = list(map(lambda x: x[0]**2+x[1]**2, points))\n",
    "        dist_to_points = {}\n",
    "        for dist, point in zip(distances, points):\n",
    "            point = tuple(point)\n",
    "            if dist in dist_to_points:\n",
    "                dist_to_points[dist].append(point)\n",
    "            else:\n",
    "                dist_to_points[dist] = [point]\n",
    "\n",
    "        sorted_keys = sorted(dist_to_points.keys())\n",
    "        result = []\n",
    "        k = 0\n",
    "        while len(result) < K and k < len(sorted_keys):\n",
    "            key = sorted_keys[k]\n",
    "            result += dist_to_points[key]\n",
    "            k += 1\n",
    "\n",
    "        result = result[:K]\n",
    "\n",
    "        return list(map(list, result))"
   ]
  },
  {
   "cell_type": "code",
   "execution_count": 114,
   "metadata": {},
   "outputs": [],
   "source": [
    "points = [[3,3],[5,-1],[-2,4]]\n",
    "K = 2"
   ]
  },
  {
   "cell_type": "code",
   "execution_count": 115,
   "metadata": {
    "tags": []
   },
   "outputs": [
    {
     "output_type": "execute_result",
     "data": {
      "text/plain": [
       "[[3, 3], [-2, 4]]"
      ]
     },
     "metadata": {},
     "execution_count": 115
    }
   ],
   "source": [
    "Solution().kClosest(points, K)"
   ]
  },
  {
   "cell_type": "code",
   "execution_count": null,
   "metadata": {},
   "outputs": [],
   "source": []
  }
 ]
}