{
 "metadata": {
  "language_info": {
   "codemirror_mode": {
    "name": "ipython",
    "version": 3
   },
   "file_extension": ".py",
   "mimetype": "text/x-python",
   "name": "python",
   "nbconvert_exporter": "python",
   "pygments_lexer": "ipython3",
   "version": "3.7.3-final"
  },
  "orig_nbformat": 2,
  "kernelspec": {
   "name": "python3",
   "display_name": "Python 3",
   "language": "python"
  }
 },
 "nbformat": 4,
 "nbformat_minor": 2,
 "cells": [
  {
   "cell_type": "code",
   "execution_count": 108,
   "metadata": {},
   "outputs": [],
   "source": [
    "class Solution:\n",
    "    def mySqrt(self, x: int) -> int:\n",
    "        if x == 0:\n",
    "            return x\n",
    "\n",
    "        l = 1\n",
    "        r = x\n",
    "        while l <= r:\n",
    "            mid = ( l + r ) // 2\n",
    "            \n",
    "            if mid > x // mid:\n",
    "                r = mid - 1\n",
    "            else:\n",
    "                if mid + 1 > x / (mid+1):\n",
    "                    return mid\n",
    "                else:\n",
    "                    l = mid + 1\n",
    "\n",
    "        return sqrt"
   ]
  },
  {
   "cell_type": "code",
   "execution_count": 109,
   "metadata": {},
   "outputs": [
    {
     "output_type": "execute_result",
     "data": {
      "text/plain": [
       "3"
      ]
     },
     "metadata": {},
     "execution_count": 109
    }
   ],
   "source": [
    "Solution().mySqrt(15)"
   ]
  }
 ]
}