{
 "cells": [
  {
   "cell_type": "code",
   "execution_count": 3,
   "metadata": {},
   "outputs": [],
   "source": [
    "from typing import List"
   ]
  },
  {
   "cell_type": "code",
   "execution_count": 187,
   "metadata": {},
   "outputs": [],
   "source": [
    "class Solution:\n",
    "    def numSubarrayProductLessThanK(self, nums, k):\n",
    "        \"\"\"\n",
    "        \"\"\"\n",
    "        i = 0\n",
    "        j = 0\n",
    "        last_j = -1\n",
    "        h = -1\n",
    "        product = 1\n",
    "        counter = 0\n",
    "        while j < len(nums):\n",
    "            if j!=last_j:\n",
    "                product *= nums[j]\n",
    "                last_j = j\n",
    "            if product >= k:\n",
    "                #interval [i,j] violated the constraint, implying interval [i,j-1] met the constraint\n",
    "                n = j - 1 - i + 1 # current interval length\n",
    "                m = h - i + 1 # past interval length\n",
    "                counter += ((n+1)*n/2 - (m+1)*m/2)\n",
    "                h = j-1\n",
    "                product /= nums[i]\n",
    "                i += 1\n",
    "                if j < i:\n",
    "                    j = i\n",
    "            else:\n",
    "                j += 1  \n",
    "                \n",
    "        if product < k:\n",
    "            n = j - 1 - i + 1 # current interval length\n",
    "            m = h - i + 1 # past interval length        \n",
    "            counter += ((n+1)*n/2 - (m+1)*m/2)\n",
    "\n",
    "                \n",
    "        return int(counter)\n",
    "                "
   ]
  },
  {
   "cell_type": "code",
   "execution_count": 191,
   "metadata": {},
   "outputs": [
    {
     "data": {
      "text/plain": [
       "26"
      ]
     },
     "execution_count": 191,
     "metadata": {},
     "output_type": "execute_result"
    }
   ],
   "source": [
    "solution = Solution()\n",
    "nums = [10, 5, 2, 6,7,3,2,5,6,1]\n",
    "k = 100\n",
    "solution.numSubarrayProductLessThanK(nums, k)"
   ]
  },
  {
   "cell_type": "code",
   "execution_count": null,
   "metadata": {},
   "outputs": [],
   "source": []
  }
 ],
 "metadata": {
  "kernelspec": {
   "display_name": "Python 3",
   "language": "python",
   "name": "python3"
  },
  "language_info": {
   "codemirror_mode": {
    "name": "ipython",
    "version": 3
   },
   "file_extension": ".py",
   "mimetype": "text/x-python",
   "name": "python",
   "nbconvert_exporter": "python",
   "pygments_lexer": "ipython3",
   "version": "3.7.7"
  }
 },
 "nbformat": 4,
 "nbformat_minor": 4
}
