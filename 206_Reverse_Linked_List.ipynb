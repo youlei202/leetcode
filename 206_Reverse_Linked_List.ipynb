{
 "metadata": {
  "language_info": {
   "codemirror_mode": {
    "name": "ipython",
    "version": 3
   },
   "file_extension": ".py",
   "mimetype": "text/x-python",
   "name": "python",
   "nbconvert_exporter": "python",
   "pygments_lexer": "ipython3",
   "version": "3.7.7-final"
  },
  "orig_nbformat": 2,
  "kernelspec": {
   "name": "python3",
   "display_name": "Python 3.7.7 64-bit",
   "metadata": {
    "interpreter": {
     "hash": "a18a76d628cf6e0dbe981d2c2a4370e0d5a000afd243b507521121538dfb0428"
    }
   }
  }
 },
 "nbformat": 4,
 "nbformat_minor": 2,
 "cells": [
  {
   "cell_type": "code",
   "execution_count": 1,
   "metadata": {},
   "outputs": [],
   "source": [
    "# Definition for singly-linked list.\n",
    "class ListNode:\n",
    "    def __init__(self, val=0, next=None):\n",
    "        self.val = val\n",
    "        self.next = next\n",
    "\n",
    "class Solution:\n",
    "    def reverseList(self, head: ListNode) -> ListNode:\n",
    "        arr = []\n",
    "        node = head\n",
    "        while node != None:\n",
    "            arr.append(node.val)\n",
    "            node = node.next\n",
    "\n",
    "        node = head\n",
    "        i = len(arr)-1\n",
    "        while node != None:\n",
    "            print(i)\n",
    "            node.val = arr[i]\n",
    "            i -= 1\n",
    "            node = node.next\n",
    "\n",
    "        return head\n",
    "        "
   ]
  },
  {
   "cell_type": "code",
   "execution_count": null,
   "metadata": {},
   "outputs": [],
   "source": [
    "class Solution:\n",
    "    def reverseList(self, head: ListNode) -> ListNode:      \n",
    "        if head is None:\n",
    "            return head  \n",
    "        prev = head\n",
    "        curr = head.next\n",
    "        head.next = None\n",
    "\n",
    "        while curr != None:\n",
    "            next = curr.next\n",
    "            curr.next = prev \n",
    "            prev = curr\n",
    "            curr = next\n",
    "\n",
    "        head = prev\n",
    "        return head"
   ]
  },
  {
   "cell_type": "code",
   "execution_count": null,
   "metadata": {},
   "outputs": [],
   "source": [
    "class Solution:\n",
    "    def reverseList(self, head: ListNode) -> ListNode:  \n",
    "        if head == None or head.next == None:\n",
    "            return head \n",
    "        \n",
    "        curr = self.reverseList(head.next)\n",
    "        head.next.next = head\n",
    "        head.next = None \n",
    "        return curr"
   ]
  }
 ]
}