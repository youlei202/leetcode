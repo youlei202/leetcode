{
 "metadata": {
  "language_info": {
   "codemirror_mode": {
    "name": "ipython",
    "version": 3
   },
   "file_extension": ".py",
   "mimetype": "text/x-python",
   "name": "python",
   "nbconvert_exporter": "python",
   "pygments_lexer": "ipython3",
   "version": "3.7.7-final"
  },
  "orig_nbformat": 2,
  "kernelspec": {
   "name": "python3",
   "display_name": "Python 3.7.7 64-bit",
   "metadata": {
    "interpreter": {
     "hash": "a18a76d628cf6e0dbe981d2c2a4370e0d5a000afd243b507521121538dfb0428"
    }
   }
  }
 },
 "nbformat": 4,
 "nbformat_minor": 2,
 "cells": [
  {
   "cell_type": "code",
   "execution_count": 8,
   "metadata": {},
   "outputs": [],
   "source": [
    "from typing import List\n",
    "import pandas as pd"
   ]
  },
  {
   "cell_type": "code",
   "execution_count": 187,
   "metadata": {},
   "outputs": [],
   "source": [
    "class Solution:\n",
    "    def mostVisitedPattern(self, username: List[str], timestamp: List[int], website: List[str]) -> List[str]:\n",
    "\n",
    "        # Build dictionary\n",
    "        records = {}\n",
    "        for user, time, web in zip(username, timestamp, website):\n",
    "                records[user] = records.get(user, {})\n",
    "                records[user][time] = web\n",
    "\n",
    "        three_visits_counts = {}\n",
    "        for user, user_records in records.items():\n",
    "            sorted_keys = sorted(list(user_records))\n",
    "            n = len(sorted_keys)\n",
    "            i = 0\n",
    "            visited = set()\n",
    "            while i < n-2:\n",
    "                time_i = sorted_keys[i]\n",
    "                j = i + 1\n",
    "                while j < n-1:\n",
    "                    time_j = sorted_keys[j]\n",
    "                    k = j + 1\n",
    "                    while k < n:\n",
    "                        time_k = sorted_keys[k]\n",
    "                        three_visits = [\n",
    "                            user_records[time_i],\n",
    "                            user_records[time_j],\n",
    "                            user_records[time_k],\n",
    "                        ]\n",
    "                        three_visits_str = '|'.join(three_visits)\n",
    "                        if three_visits_str not in visited:\n",
    "                            three_visits_counts[three_visits_str] = three_visits_counts.get(three_visits_str, 0) + 1\n",
    "                            visited.add(three_visits_str)\n",
    "                        k += 1\n",
    "                    j += 1\n",
    "                i += 1\n",
    "\n",
    "        max_visit_str = ''\n",
    "        max_count = 0\n",
    "        for three_visits in sorted(list(map(lambda x: x.split('|'), sorted(three_visits_counts.keys())))):\n",
    "            three_visits_str = '|'.join(three_visits)\n",
    "            count = three_visits_counts[three_visits_str]\n",
    "            if count > max_count:\n",
    "                max_count = count\n",
    "                max_visit_str = three_visits_str\n",
    "\n",
    "        return max_visit_str.split('|')\n",
    "\n",
    "\n"
   ]
  },
  {
   "cell_type": "code",
   "execution_count": 188,
   "metadata": {},
   "outputs": [],
   "source": [
    "username = [\"him\",\"mxcmo\",\"jejuvvtye\",\"wphmqzn\",\"uwlblbrkqv\",\"flntc\",\"esdtyvfs\",\"nig\",\"jejuvvtye\",\"nig\",\"mxcmo\",\"flntc\",\"nig\",\"jejuvvtye\",\"odmspeq\",\"jiufvjy\",\"esdtyvfs\",\"mfieoxff\",\"nig\",\"flntc\",\"mxcmo\",\"qxbrmo\"]\n",
    "timestamp = [113355592,304993712,80831183,751306572,34485202,414560488,667775008,951168362,794457022,813255204,922111713,127547164,906590066,685654550,430221607,699844334,358754380,301537469,561750506,612256123,396990840,60109482]\n",
    "website = [\"k\",\"o\",\"o\",\"nxpvmh\",\"dssdnkv\",\"kiuorlwdcw\",\"twwginujc\",\"evenodb\",\"qqlw\",\"mhpzoaiw\",\"jukowcnnaz\",\"m\",\"ep\",\"qn\",\"wxeffbcy\",\"ggwzd\",\"tawp\",\"gxm\",\"pop\",\"xipfkhac\",\"weiujzjcy\",\"x\"]"
   ]
  },
  {
   "cell_type": "code",
   "execution_count": 189,
   "metadata": {},
   "outputs": [
    {
     "output_type": "execute_result",
     "data": {
      "text/plain": [
       "['m', 'kiuorlwdcw', 'xipfkhac']"
      ]
     },
     "metadata": {},
     "execution_count": 189
    }
   ],
   "source": [
    "Solution().mostVisitedPattern(username, timestamp, website)"
   ]
  }
 ]
}