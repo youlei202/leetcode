{
 "cells": [
  {
   "cell_type": "code",
   "execution_count": 1,
   "metadata": {},
   "outputs": [],
   "source": [
    "from typing import List"
   ]
  },
  {
   "cell_type": "code",
   "execution_count": 82,
   "metadata": {},
   "outputs": [],
   "source": [
    "class Solution:\n",
    "    \n",
    "    def __init__(self):\n",
    "        self.output = []\n",
    "    \n",
    "    def splitIpAddresses(self, collected: List, remain: str) -> str:\n",
    "        if len(collected) == 4 and len(remain) == 0:\n",
    "            s = \"\"\n",
    "            for elem in collected:\n",
    "                s += str(elem) + '.'\n",
    "            s = s[:-1]\n",
    "            self.output.append(s)\n",
    "        elif len(remain)>0 and len(collected)<4:\n",
    "            # enumerate possible digits in remain and go to next layer\n",
    "            if remain[0] == '0':\n",
    "                digits = int(remain[0])\n",
    "                new_collected = collected.copy()\n",
    "                new_collected.append(digits)\n",
    "                self.splitIpAddresses(new_collected, remain[1:])\n",
    "            else:\n",
    "                for i in range(1,min(len(remain)+1, 4)):\n",
    "                    digits = int(remain[:i])\n",
    "                    if digits < 256:\n",
    "                        new_collected = collected.copy()\n",
    "                        new_collected.append(digits)\n",
    "                        self.splitIpAddresses(new_collected, remain[i:])\n",
    "    \n",
    "    def restoreIpAddresses(self, s: str) -> List[str]:\n",
    "        collected = []\n",
    "        self.splitIpAddresses(collected = collected, remain = s)\n",
    "        return self.output"
   ]
  },
  {
   "cell_type": "code",
   "execution_count": 83,
   "metadata": {},
   "outputs": [
    {
     "data": {
      "text/plain": [
       "['255.255.11.135', '255.255.111.35']"
      ]
     },
     "execution_count": 83,
     "metadata": {},
     "output_type": "execute_result"
    }
   ],
   "source": [
    "s = \"25525511135\"\n",
    "Solution().restoreIpAddresses(s)"
   ]
  }
 ],
 "metadata": {
  "kernelspec": {
   "display_name": "Python 3",
   "language": "python",
   "name": "python3"
  },
  "language_info": {
   "codemirror_mode": {
    "name": "ipython",
    "version": 3
   },
   "file_extension": ".py",
   "mimetype": "text/x-python",
   "name": "python",
   "nbconvert_exporter": "python",
   "pygments_lexer": "ipython3",
   "version": "3.7.7"
  }
 },
 "nbformat": 4,
 "nbformat_minor": 4
}
