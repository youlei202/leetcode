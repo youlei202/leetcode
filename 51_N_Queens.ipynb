{
 "metadata": {
  "language_info": {
   "codemirror_mode": {
    "name": "ipython",
    "version": 3
   },
   "file_extension": ".py",
   "mimetype": "text/x-python",
   "name": "python",
   "nbconvert_exporter": "python",
   "pygments_lexer": "ipython3",
   "version": "3.7.7-final"
  },
  "orig_nbformat": 2,
  "kernelspec": {
   "name": "python3",
   "display_name": "Python 3",
   "language": "python"
  }
 },
 "nbformat": 4,
 "nbformat_minor": 2,
 "cells": [
  {
   "cell_type": "code",
   "execution_count": 1,
   "metadata": {},
   "outputs": [],
   "source": [
    "from typing import List"
   ]
  },
  {
   "cell_type": "code",
   "execution_count": 16,
   "metadata": {},
   "outputs": [],
   "source": [
    "class Solution:\n",
    "\n",
    "    def __init__(self):\n",
    "        self.solutions = []\n",
    "\n",
    "    def queen_can_be_put(self, i, j, queens_on_board):\n",
    "        if len(queens_on_board) == 0:\n",
    "            return True \n",
    "\n",
    "        n = len(queens_on_board[0])\n",
    "\n",
    "        # check column \n",
    "        for row in queens_on_board:\n",
    "            if row[j] == 'Q':\n",
    "                return False\n",
    "\n",
    "        # check diag up-right\n",
    "        k = i - 1\n",
    "        h = j + 1\n",
    "        while k >= 0 and h < n:\n",
    "            if queens_on_board[k][h] == 'Q':\n",
    "                return False\n",
    "            k -= 1\n",
    "            h += 1\n",
    "\n",
    "        # check diag up-left\n",
    "        k = i - 1\n",
    "        h = j - 1\n",
    "        while k >= 0 and h >= 0:\n",
    "            if queens_on_board[k][h] == 'Q':\n",
    "                return False\n",
    "            k -= 1\n",
    "            h -= 1\n",
    "\n",
    "        return True\n",
    "\n",
    "    def backtracking(self, queens_on_board, remain_queens_num):\n",
    "\n",
    "        if remain_queens_num == 0:\n",
    "            self.solutions.append(queens_on_board.copy())\n",
    "            return self.solutions\n",
    "        \n",
    "        n = len(queens_on_board) + remain_queens_num\n",
    "        i = len(queens_on_board)\n",
    "        for j in range(n):\n",
    "            if self.queen_can_be_put(i,j, queens_on_board):\n",
    "                new_row = ['.' for i in range(n)]\n",
    "                new_row[j] = 'Q'\n",
    "                queens_on_board_updated = queens_on_board.copy()\n",
    "                queens_on_board_updated.append(new_row)\n",
    "                self.backtracking(queens_on_board_updated, remain_queens_num-1)\n",
    "\n",
    "        return self.solutions\n",
    "\n",
    "    def solveNQueens(self, n: int) -> List[List[str]]:\n",
    "        return self.backtracking(queens_on_board=[], remain_queens_num=n)"
   ]
  },
  {
   "cell_type": "code",
   "execution_count": 17,
   "metadata": {},
   "outputs": [
    {
     "output_type": "execute_result",
     "data": {
      "text/plain": [
       "[[['.', 'Q', '.', '.'],\n",
       "  ['.', '.', '.', 'Q'],\n",
       "  ['Q', '.', '.', '.'],\n",
       "  ['.', '.', 'Q', '.']],\n",
       " [['.', '.', 'Q', '.'],\n",
       "  ['Q', '.', '.', '.'],\n",
       "  ['.', '.', '.', 'Q'],\n",
       "  ['.', 'Q', '.', '.']]]"
      ]
     },
     "metadata": {},
     "execution_count": 17
    }
   ],
   "source": [
    "Solution().solveNQueens(4)"
   ]
  },
  {
   "cell_type": "code",
   "execution_count": null,
   "metadata": {},
   "outputs": [],
   "source": []
  }
 ]
}