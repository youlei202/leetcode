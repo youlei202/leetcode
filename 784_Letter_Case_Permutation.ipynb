{
 "metadata": {
  "language_info": {
   "codemirror_mode": {
    "name": "ipython",
    "version": 3
   },
   "file_extension": ".py",
   "mimetype": "text/x-python",
   "name": "python",
   "nbconvert_exporter": "python",
   "pygments_lexer": "ipython3",
   "version": "3.7.7-final"
  },
  "orig_nbformat": 2,
  "kernelspec": {
   "name": "python3",
   "display_name": "Python 3.7.7 64-bit ('jupyterlab': conda)",
   "metadata": {
    "interpreter": {
     "hash": "a18a76d628cf6e0dbe981d2c2a4370e0d5a000afd243b507521121538dfb0428"
    }
   }
  }
 },
 "nbformat": 4,
 "nbformat_minor": 2,
 "cells": [
  {
   "cell_type": "code",
   "execution_count": 1,
   "metadata": {},
   "outputs": [],
   "source": [
    "from typing import List"
   ]
  },
  {
   "cell_type": "code",
   "execution_count": 24,
   "metadata": {},
   "outputs": [],
   "source": [
    "class Solution:\n",
    "\n",
    "    def __init__(self):\n",
    "        self.solutions = []\n",
    "\n",
    "    def _backtracking(self, fixed, opened):\n",
    "        if len(opened) == 0:\n",
    "            self.solutions.append(fixed)\n",
    "            return\n",
    "        char = opened[0]\n",
    "        if char.isalpha():\n",
    "            self._backtracking(fixed+char.lower(), opened[1:])\n",
    "            self._backtracking(fixed+char.upper(), opened[1:])\n",
    "        else:\n",
    "            self._backtracking(fixed+char, opened[1:])\n",
    "\n",
    "    def letterCasePermutation(self, S: str) -> List[str]:\n",
    "        self._backtracking(fixed=\"\", opened=S)\n",
    "        return self.solutions"
   ]
  },
  {
   "cell_type": "code",
   "execution_count": 25,
   "metadata": {},
   "outputs": [
    {
     "output_type": "execute_result",
     "data": {
      "text/plain": [
       "['a1b2', 'a1B2', 'A1b2', 'A1B2']"
      ]
     },
     "metadata": {},
     "execution_count": 25
    }
   ],
   "source": [
    "S=\"a1b2\"\n",
    "Solution().letterCasePermutation(S)"
   ]
  }
 ]
}