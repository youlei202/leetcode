{
 "cells": [
  {
   "cell_type": "code",
   "execution_count": 140,
   "metadata": {},
   "outputs": [],
   "source": [
    "class Solution(object):\n",
    "    def convert(self, s, numRows):\n",
    "        \"\"\"\n",
    "        :type s: str\n",
    "        :type numRows: int\n",
    "        :rtype: str\n",
    "        \"\"\"\n",
    "        if numRows < 2 or len(s) < 2 : return s\n",
    "\n",
    "        ns = []\n",
    "        count_row = 0\n",
    "        count_col = 0\n",
    "        vertical = True\n",
    "        i = 0 \n",
    "        col = []\n",
    "        while i<len(s):\n",
    "            if vertical == True:     \n",
    "                if count_row < numRows:\n",
    "                    col.append(s[i])\n",
    "                    count_row += 1\n",
    "                    if i == len(s)-1:\n",
    "                        col\n",
    "                        for j in range(numRows-len(col)):\n",
    "                            col.append(' ')\n",
    "                        ns.append(col)\n",
    "                        \n",
    "                else:\n",
    "                    ns.append(col)\n",
    "                    col = []\n",
    "                    vertical = False\n",
    "                    count_row = 0\n",
    "                    i -= 1\n",
    "            else:\n",
    "                count_col += 1\n",
    "                if count_col < numRows-1:\n",
    "                    col = [ ' ' for j in range(numRows) ]\n",
    "                    col[numRows-count_col-1] = s[i]\n",
    "                    ns.append(col)\n",
    "                    col = []\n",
    "                else:\n",
    "                    vertical = True\n",
    "                    count_col = 0\n",
    "                    i -= 1\n",
    "            i = i + 1\n",
    "                \n",
    "        answer = []\n",
    "        for j in range(numRows):\n",
    "            for i in range(len(ns)):\n",
    "                if ns[i][j] != ' ':\n",
    "                    answer.append(ns[i][j])\n",
    "            \n",
    "        return ''.join(answer)\n",
    "        "
   ]
  },
  {
   "cell_type": "code",
   "execution_count": 141,
   "metadata": {},
   "outputs": [
    {
     "data": {
      "text/plain": [
       "'AB'"
      ]
     },
     "execution_count": 141,
     "metadata": {},
     "output_type": "execute_result"
    }
   ],
   "source": [
    "s = \"AB\"\n",
    "Solution().convert(s,3)\n"
   ]
  },
  {
   "cell_type": "code",
   "execution_count": null,
   "metadata": {
    "collapsed": true
   },
   "outputs": [],
   "source": [
    "PAHNAPLSIIGYIR"
   ]
  }
 ],
 "metadata": {
  "kernelspec": {
   "display_name": "Python 2",
   "language": "python",
   "name": "python2"
  },
  "language_info": {
   "codemirror_mode": {
    "name": "ipython",
    "version": 2
   },
   "file_extension": ".py",
   "mimetype": "text/x-python",
   "name": "python",
   "nbconvert_exporter": "python",
   "pygments_lexer": "ipython2",
   "version": "2.7.14"
  }
 },
 "nbformat": 4,
 "nbformat_minor": 2
}
