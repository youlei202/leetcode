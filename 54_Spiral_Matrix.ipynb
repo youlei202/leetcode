{
 "cells": [
  {
   "cell_type": "code",
   "execution_count": 27,
   "metadata": {},
   "outputs": [],
   "source": [
    "class Solution:\n",
    "    def spiralOrder(self, matrix):\n",
    "        \n",
    "        if matrix == []:\n",
    "            return []\n",
    "        \n",
    "        left_boundary = -1\n",
    "        right_boundary = len(matrix[0])\n",
    "        top_boundary = -1\n",
    "        bottom_boundary = len(matrix)\n",
    "        \n",
    "        row = 0\n",
    "        col = -1\n",
    "        count = 0\n",
    "        total_steps = len(matrix[0]) * len(matrix)\n",
    "        \n",
    "        directions = ['right', 'down', 'left', 'up']\n",
    "        d_index = 0\n",
    "        \n",
    "        spiral_list = []\n",
    "        while count < total_steps:\n",
    "            \n",
    "            if directions[d_index] == 'right':\n",
    "                if col + 1 < right_boundary:\n",
    "                    col += 1\n",
    "                    spiral_list.append(matrix[row][col])\n",
    "                    count += 1\n",
    "                else:\n",
    "                    top_boundary += 1\n",
    "                    d_index = (d_index + 1) % len(directions)\n",
    "            elif directions[d_index] == 'down':\n",
    "                if row + 1 < bottom_boundary:\n",
    "                    row += 1\n",
    "                    spiral_list.append(matrix[row][col])\n",
    "                    count += 1\n",
    "                else:\n",
    "                    right_boundary -= 1\n",
    "                    d_index = (d_index + 1) % len(directions)\n",
    "            elif directions[d_index] == 'left':\n",
    "                if col - 1 > left_boundary:\n",
    "                    col -= 1\n",
    "                    spiral_list.append(matrix[row][col])\n",
    "                    count += 1\n",
    "                else:\n",
    "                    bottom_boundary -= 1\n",
    "                    d_index = (d_index + 1) % len(directions)\n",
    "            else:\n",
    "                if row -1 > top_boundary:\n",
    "                    row -= 1\n",
    "                    spiral_list.append(matrix[row][col])\n",
    "                    count += 1\n",
    "                else:\n",
    "                    left_boundary += 1\n",
    "                    d_index = (d_index + 1) % len(directions)\n",
    "        \n",
    "        return spiral_list\n",
    "\n",
    "        \n",
    "        "
   ]
  },
  {
   "cell_type": "code",
   "execution_count": 28,
   "metadata": {},
   "outputs": [],
   "source": [
    "solution = Solution()"
   ]
  },
  {
   "cell_type": "code",
   "execution_count": 31,
   "metadata": {},
   "outputs": [],
   "source": [
    "input = [[1,2,3],[4,5,6],[7,8,9]]"
   ]
  },
  {
   "cell_type": "code",
   "execution_count": 32,
   "metadata": {},
   "outputs": [
    {
     "data": {
      "text/plain": [
       "[1, 2, 3, 6, 9, 8, 7, 4, 5]"
      ]
     },
     "execution_count": 32,
     "metadata": {},
     "output_type": "execute_result"
    }
   ],
   "source": [
    "solution.spiralOrder(input)"
   ]
  }
 ],
 "metadata": {
  "kernelspec": {
   "display_name": "Python 3",
   "language": "python",
   "name": "python3"
  },
  "language_info": {
   "codemirror_mode": {
    "name": "ipython",
    "version": 3
   },
   "file_extension": ".py",
   "mimetype": "text/x-python",
   "name": "python",
   "nbconvert_exporter": "python",
   "pygments_lexer": "ipython3",
   "version": "3.7.7"
  }
 },
 "nbformat": 4,
 "nbformat_minor": 4
}
