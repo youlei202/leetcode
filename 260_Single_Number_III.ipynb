{
 "metadata": {
  "language_info": {
   "codemirror_mode": {
    "name": "ipython",
    "version": 3
   },
   "file_extension": ".py",
   "mimetype": "text/x-python",
   "name": "python",
   "nbconvert_exporter": "python",
   "pygments_lexer": "ipython3",
   "version": "3.7.3-final"
  },
  "orig_nbformat": 2,
  "kernelspec": {
   "name": "python3",
   "display_name": "Python 3",
   "language": "python"
  }
 },
 "nbformat": 4,
 "nbformat_minor": 2,
 "cells": [
  {
   "cell_type": "code",
   "execution_count": null,
   "metadata": {},
   "outputs": [],
   "source": [
    "class Solution:\n",
    "    def singleNumber(self, nums: List[int]) -> List[int]:\n",
    "        x = 0\n",
    "        for num in nums:\n",
    "            x ^= num\n",
    "        \n",
    "        c = 0 \n",
    "        while x % 2 != 1:\n",
    "            x >>= 1\n",
    "            c += 1\n",
    "        x = 1 << c\n",
    "        \n",
    "        result = [0,0]\n",
    "        for num in nums:\n",
    "            if num & x == 0:\n",
    "                result[0] ^= num\n",
    "            else:\n",
    "                result[1] ^= num \n",
    "                \n",
    "        return result\n",
    "        \n",
    "        "
   ]
  }
 ]
}