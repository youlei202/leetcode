{
 "cells": [
  {
   "cell_type": "code",
   "execution_count": 49,
   "metadata": {},
   "outputs": [],
   "source": [
    "class Solution(object):\n",
    "    def findNthDigit(self, n):\n",
    "        \"\"\"\n",
    "        :type n: int\n",
    "        :rtype: int\n",
    "        \"\"\"\n",
    "        c = 0\n",
    "        base = 1\n",
    "        while n > 0:\n",
    "            n -= base * (9 * 10**c)\n",
    "            c += 1\n",
    "            base += 1\n",
    "        base -= 1\n",
    "        c -= 1\n",
    "        n += base * (9 * 10**c)\n",
    "\n",
    "        i= (n-1) // base\n",
    "        j = ( (n-1) - i*base ) % base\n",
    "        integer = 10**c + i \n",
    "        digit = int(str(integer)[j])\n",
    "        return digit\n",
    "        \n",
    "        \n",
    "\n"
   ]
  },
  {
   "cell_type": "code",
   "execution_count": 53,
   "metadata": {},
   "outputs": [
    {
     "data": {
      "text/plain": [
       "1"
      ]
     },
     "execution_count": 53,
     "metadata": {},
     "output_type": "execute_result"
    }
   ],
   "source": [
    "Solution().findNthDigit(12)"
   ]
  }
 ],
 "metadata": {
  "interpreter": {
   "hash": "dc6173651bae0fb962f53a6d951c572133740618f99b8bf0d46a4f552cd072b6"
  },
  "kernelspec": {
   "display_name": "Python 3.9.12 64-bit ('3.9.12')",
   "language": "python",
   "name": "python3"
  },
  "language_info": {
   "codemirror_mode": {
    "name": "ipython",
    "version": 3
   },
   "file_extension": ".py",
   "mimetype": "text/x-python",
   "name": "python",
   "nbconvert_exporter": "python",
   "pygments_lexer": "ipython3",
   "version": "3.9.12"
  },
  "orig_nbformat": 4
 },
 "nbformat": 4,
 "nbformat_minor": 2
}
